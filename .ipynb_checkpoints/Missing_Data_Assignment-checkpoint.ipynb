{
 "cells": [
  {
   "cell_type": "markdown",
   "id": "modified-designation",
   "metadata": {},
   "source": [
    "### Import your libraries"
   ]
  },
  {
   "cell_type": "code",
   "execution_count": 519,
   "id": "offensive-lesbian",
   "metadata": {},
   "outputs": [],
   "source": [
    "import pandas as pd\n",
    "import numpy as np\n",
    "import matplotlib.pyplot as plt\n",
    "import seaborn as sns\n",
    "from plotly import express as px"
   ]
  },
  {
   "cell_type": "markdown",
   "id": "israeli-dialogue",
   "metadata": {},
   "source": [
    "### Load your dataset"
   ]
  },
  {
   "cell_type": "code",
   "execution_count": 520,
   "id": "typical-wrong",
   "metadata": {},
   "outputs": [],
   "source": [
    "df = pd.read_csv('HR_Missing_Values.csv')"
   ]
  },
  {
   "cell_type": "markdown",
   "id": "federal-television",
   "metadata": {},
   "source": [
    "### Explore your data \n",
    "\n",
    "* First 5 recods.\n",
    "* Last 5 records. \n",
    "* Check data types.\n",
    "* Show statistical summary.\n",
    "* Is there any missing values?\n",
    "* Applay two more data analysis from your choose."
   ]
  },
  {
   "cell_type": "code",
   "execution_count": 521,
   "id": "experienced-democrat",
   "metadata": {},
   "outputs": [
    {
     "data": {
      "text/html": [
       "<div>\n",
       "<style scoped>\n",
       "    .dataframe tbody tr th:only-of-type {\n",
       "        vertical-align: middle;\n",
       "    }\n",
       "\n",
       "    .dataframe tbody tr th {\n",
       "        vertical-align: top;\n",
       "    }\n",
       "\n",
       "    .dataframe thead th {\n",
       "        text-align: right;\n",
       "    }\n",
       "</style>\n",
       "<table border=\"1\" class=\"dataframe\">\n",
       "  <thead>\n",
       "    <tr style=\"text-align: right;\">\n",
       "      <th></th>\n",
       "      <th>Employee_Name</th>\n",
       "      <th>EmpID</th>\n",
       "      <th>Salary</th>\n",
       "      <th>PositionID</th>\n",
       "      <th>Position</th>\n",
       "      <th>DOB</th>\n",
       "      <th>Sex</th>\n",
       "      <th>MaritalDesc</th>\n",
       "      <th>RaceDesc</th>\n",
       "      <th>DateofHire</th>\n",
       "      <th>DateofTermination</th>\n",
       "      <th>Department</th>\n",
       "      <th>ManagerName</th>\n",
       "      <th>ManagerID</th>\n",
       "      <th>RecruitmentSource</th>\n",
       "      <th>Absences</th>\n",
       "    </tr>\n",
       "  </thead>\n",
       "  <tbody>\n",
       "    <tr>\n",
       "      <th>0</th>\n",
       "      <td>Adinolfi, Wilson  K</td>\n",
       "      <td>10026.0</td>\n",
       "      <td>62506.0</td>\n",
       "      <td>19.0</td>\n",
       "      <td>Production Technician I</td>\n",
       "      <td>07/10/83</td>\n",
       "      <td>M</td>\n",
       "      <td>Single</td>\n",
       "      <td>White</td>\n",
       "      <td>7/5/2011</td>\n",
       "      <td>NaN</td>\n",
       "      <td>Production</td>\n",
       "      <td>Michael Albert</td>\n",
       "      <td>22.0</td>\n",
       "      <td>LinkedIn</td>\n",
       "      <td>1.0</td>\n",
       "    </tr>\n",
       "    <tr>\n",
       "      <th>1</th>\n",
       "      <td>Ait Sidi, Karthikeyan</td>\n",
       "      <td>10084.0</td>\n",
       "      <td>104437.0</td>\n",
       "      <td>27.0</td>\n",
       "      <td>Sr. DBA</td>\n",
       "      <td>05/05/75</td>\n",
       "      <td>M</td>\n",
       "      <td>Married</td>\n",
       "      <td>White</td>\n",
       "      <td>3/30/2015</td>\n",
       "      <td>6/16/2016</td>\n",
       "      <td>IT/IS</td>\n",
       "      <td>Simon Roup</td>\n",
       "      <td>4.0</td>\n",
       "      <td>Indeed</td>\n",
       "      <td>17.0</td>\n",
       "    </tr>\n",
       "    <tr>\n",
       "      <th>2</th>\n",
       "      <td>Akinkuolie, Sarah</td>\n",
       "      <td>10196.0</td>\n",
       "      <td>64955.0</td>\n",
       "      <td>20.0</td>\n",
       "      <td>Production Technician II</td>\n",
       "      <td>09/19/88</td>\n",
       "      <td>F</td>\n",
       "      <td>Married</td>\n",
       "      <td>White</td>\n",
       "      <td>7/5/2011</td>\n",
       "      <td>9/24/2012</td>\n",
       "      <td>Production</td>\n",
       "      <td>Kissy Sullivan</td>\n",
       "      <td>20.0</td>\n",
       "      <td>LinkedIn</td>\n",
       "      <td>3.0</td>\n",
       "    </tr>\n",
       "    <tr>\n",
       "      <th>3</th>\n",
       "      <td>Alagbe,Trina</td>\n",
       "      <td>10088.0</td>\n",
       "      <td>64991.0</td>\n",
       "      <td>19.0</td>\n",
       "      <td>Production Technician I</td>\n",
       "      <td>NaN</td>\n",
       "      <td>F</td>\n",
       "      <td>Married</td>\n",
       "      <td>White</td>\n",
       "      <td>1/7/2008</td>\n",
       "      <td>NaN</td>\n",
       "      <td>Production</td>\n",
       "      <td>Elijiah Gray</td>\n",
       "      <td>16.0</td>\n",
       "      <td>Indeed</td>\n",
       "      <td>15.0</td>\n",
       "    </tr>\n",
       "    <tr>\n",
       "      <th>4</th>\n",
       "      <td>NaN</td>\n",
       "      <td>10069.0</td>\n",
       "      <td>50825.0</td>\n",
       "      <td>19.0</td>\n",
       "      <td>Production Technician I</td>\n",
       "      <td>09/08/89</td>\n",
       "      <td>F</td>\n",
       "      <td>Divorced</td>\n",
       "      <td>White</td>\n",
       "      <td>7/11/2011</td>\n",
       "      <td>9/6/2016</td>\n",
       "      <td>Production</td>\n",
       "      <td>Webster Butler</td>\n",
       "      <td>39.0</td>\n",
       "      <td>Google Search</td>\n",
       "      <td>2.0</td>\n",
       "    </tr>\n",
       "  </tbody>\n",
       "</table>\n",
       "</div>"
      ],
      "text/plain": [
       "              Employee_Name    EmpID    Salary  PositionID  \\\n",
       "0       Adinolfi, Wilson  K  10026.0   62506.0        19.0   \n",
       "1  Ait Sidi, Karthikeyan     10084.0  104437.0        27.0   \n",
       "2         Akinkuolie, Sarah  10196.0   64955.0        20.0   \n",
       "3              Alagbe,Trina  10088.0   64991.0        19.0   \n",
       "4                       NaN  10069.0   50825.0        19.0   \n",
       "\n",
       "                   Position       DOB Sex MaritalDesc RaceDesc DateofHire  \\\n",
       "0   Production Technician I  07/10/83  M       Single    White   7/5/2011   \n",
       "1                   Sr. DBA  05/05/75  M      Married    White  3/30/2015   \n",
       "2  Production Technician II  09/19/88   F     Married    White   7/5/2011   \n",
       "3   Production Technician I       NaN   F     Married    White   1/7/2008   \n",
       "4   Production Technician I  09/08/89   F    Divorced    White  7/11/2011   \n",
       "\n",
       "  DateofTermination         Department     ManagerName  ManagerID  \\\n",
       "0               NaN  Production         Michael Albert       22.0   \n",
       "1         6/16/2016              IT/IS      Simon Roup        4.0   \n",
       "2         9/24/2012  Production         Kissy Sullivan       20.0   \n",
       "3               NaN  Production           Elijiah Gray       16.0   \n",
       "4          9/6/2016  Production         Webster Butler       39.0   \n",
       "\n",
       "  RecruitmentSource  Absences  \n",
       "0          LinkedIn       1.0  \n",
       "1            Indeed      17.0  \n",
       "2          LinkedIn       3.0  \n",
       "3            Indeed      15.0  \n",
       "4     Google Search       2.0  "
      ]
     },
     "execution_count": 521,
     "metadata": {},
     "output_type": "execute_result"
    }
   ],
   "source": [
    "df.head()"
   ]
  },
  {
   "cell_type": "code",
   "execution_count": 522,
   "id": "missing-relevance",
   "metadata": {},
   "outputs": [
    {
     "data": {
      "text/html": [
       "<div>\n",
       "<style scoped>\n",
       "    .dataframe tbody tr th:only-of-type {\n",
       "        vertical-align: middle;\n",
       "    }\n",
       "\n",
       "    .dataframe tbody tr th {\n",
       "        vertical-align: top;\n",
       "    }\n",
       "\n",
       "    .dataframe thead th {\n",
       "        text-align: right;\n",
       "    }\n",
       "</style>\n",
       "<table border=\"1\" class=\"dataframe\">\n",
       "  <thead>\n",
       "    <tr style=\"text-align: right;\">\n",
       "      <th></th>\n",
       "      <th>Employee_Name</th>\n",
       "      <th>EmpID</th>\n",
       "      <th>Salary</th>\n",
       "      <th>PositionID</th>\n",
       "      <th>Position</th>\n",
       "      <th>DOB</th>\n",
       "      <th>Sex</th>\n",
       "      <th>MaritalDesc</th>\n",
       "      <th>RaceDesc</th>\n",
       "      <th>DateofHire</th>\n",
       "      <th>DateofTermination</th>\n",
       "      <th>Department</th>\n",
       "      <th>ManagerName</th>\n",
       "      <th>ManagerID</th>\n",
       "      <th>RecruitmentSource</th>\n",
       "      <th>Absences</th>\n",
       "    </tr>\n",
       "  </thead>\n",
       "  <tbody>\n",
       "    <tr>\n",
       "      <th>306</th>\n",
       "      <td>Woodson, Jason</td>\n",
       "      <td>10135.0</td>\n",
       "      <td>65893.0</td>\n",
       "      <td>20.0</td>\n",
       "      <td>Production Technician II</td>\n",
       "      <td>05/11/85</td>\n",
       "      <td>M</td>\n",
       "      <td>Single</td>\n",
       "      <td>White</td>\n",
       "      <td>7/7/2014</td>\n",
       "      <td>NaN</td>\n",
       "      <td>Production</td>\n",
       "      <td>Kissy Sullivan</td>\n",
       "      <td>20.0</td>\n",
       "      <td>LinkedIn</td>\n",
       "      <td>13.0</td>\n",
       "    </tr>\n",
       "    <tr>\n",
       "      <th>307</th>\n",
       "      <td>Ybarra, Catherine</td>\n",
       "      <td>10301.0</td>\n",
       "      <td>48513.0</td>\n",
       "      <td>19.0</td>\n",
       "      <td>Production Technician I</td>\n",
       "      <td>NaN</td>\n",
       "      <td>F</td>\n",
       "      <td>Single</td>\n",
       "      <td>Asian</td>\n",
       "      <td>9/2/2008</td>\n",
       "      <td>9/29/2015</td>\n",
       "      <td>Production</td>\n",
       "      <td>Brannon Miller</td>\n",
       "      <td>12.0</td>\n",
       "      <td>Google Search</td>\n",
       "      <td>4.0</td>\n",
       "    </tr>\n",
       "    <tr>\n",
       "      <th>308</th>\n",
       "      <td>NaN</td>\n",
       "      <td>10010.0</td>\n",
       "      <td>220450.0</td>\n",
       "      <td>6.0</td>\n",
       "      <td>CIO</td>\n",
       "      <td>NaN</td>\n",
       "      <td>F</td>\n",
       "      <td>Single</td>\n",
       "      <td>White</td>\n",
       "      <td>4/10/2010</td>\n",
       "      <td>NaN</td>\n",
       "      <td>IT/IS</td>\n",
       "      <td>Janet King</td>\n",
       "      <td>2.0</td>\n",
       "      <td>Employee Referral</td>\n",
       "      <td>16.0</td>\n",
       "    </tr>\n",
       "    <tr>\n",
       "      <th>309</th>\n",
       "      <td>Zhou, Julia</td>\n",
       "      <td>10043.0</td>\n",
       "      <td>89292.0</td>\n",
       "      <td>9.0</td>\n",
       "      <td>Data Analyst</td>\n",
       "      <td>02/24/79</td>\n",
       "      <td>F</td>\n",
       "      <td>Single</td>\n",
       "      <td>White</td>\n",
       "      <td>3/30/2015</td>\n",
       "      <td>NaN</td>\n",
       "      <td>IT/IS</td>\n",
       "      <td>Simon Roup</td>\n",
       "      <td>4.0</td>\n",
       "      <td>Employee Referral</td>\n",
       "      <td>NaN</td>\n",
       "    </tr>\n",
       "    <tr>\n",
       "      <th>310</th>\n",
       "      <td>NaN</td>\n",
       "      <td>10271.0</td>\n",
       "      <td>45046.0</td>\n",
       "      <td>19.0</td>\n",
       "      <td>Production Technician I</td>\n",
       "      <td>08/17/78</td>\n",
       "      <td>F</td>\n",
       "      <td>Widowed</td>\n",
       "      <td>Asian</td>\n",
       "      <td>9/29/2014</td>\n",
       "      <td>NaN</td>\n",
       "      <td>Production</td>\n",
       "      <td>David Stanley</td>\n",
       "      <td>14.0</td>\n",
       "      <td>LinkedIn</td>\n",
       "      <td>2.0</td>\n",
       "    </tr>\n",
       "  </tbody>\n",
       "</table>\n",
       "</div>"
      ],
      "text/plain": [
       "          Employee_Name    EmpID    Salary  PositionID  \\\n",
       "306      Woodson, Jason  10135.0   65893.0        20.0   \n",
       "307  Ybarra, Catherine   10301.0   48513.0        19.0   \n",
       "308                 NaN  10010.0  220450.0         6.0   \n",
       "309         Zhou, Julia  10043.0   89292.0         9.0   \n",
       "310                 NaN  10271.0   45046.0        19.0   \n",
       "\n",
       "                     Position       DOB Sex MaritalDesc RaceDesc DateofHire  \\\n",
       "306  Production Technician II  05/11/85  M       Single    White   7/7/2014   \n",
       "307   Production Technician I       NaN   F      Single    Asian   9/2/2008   \n",
       "308                       CIO       NaN   F      Single    White  4/10/2010   \n",
       "309              Data Analyst  02/24/79   F      Single    White  3/30/2015   \n",
       "310   Production Technician I  08/17/78   F     Widowed    Asian  9/29/2014   \n",
       "\n",
       "    DateofTermination         Department     ManagerName  ManagerID  \\\n",
       "306               NaN  Production         Kissy Sullivan       20.0   \n",
       "307         9/29/2015  Production         Brannon Miller       12.0   \n",
       "308               NaN              IT/IS      Janet King        2.0   \n",
       "309               NaN              IT/IS      Simon Roup        4.0   \n",
       "310               NaN  Production          David Stanley       14.0   \n",
       "\n",
       "     RecruitmentSource  Absences  \n",
       "306           LinkedIn      13.0  \n",
       "307      Google Search       4.0  \n",
       "308  Employee Referral      16.0  \n",
       "309  Employee Referral       NaN  \n",
       "310           LinkedIn       2.0  "
      ]
     },
     "execution_count": 522,
     "metadata": {},
     "output_type": "execute_result"
    }
   ],
   "source": [
    "df.tail()"
   ]
  },
  {
   "cell_type": "code",
   "execution_count": 523,
   "id": "nuclear-checkout",
   "metadata": {},
   "outputs": [
    {
     "name": "stdout",
     "output_type": "stream",
     "text": [
      "<class 'pandas.core.frame.DataFrame'>\n",
      "RangeIndex: 311 entries, 0 to 310\n",
      "Data columns (total 16 columns):\n",
      " #   Column             Non-Null Count  Dtype  \n",
      "---  ------             --------------  -----  \n",
      " 0   Employee_Name      218 non-null    object \n",
      " 1   EmpID              309 non-null    float64\n",
      " 2   Salary             248 non-null    float64\n",
      " 3   PositionID         309 non-null    float64\n",
      " 4   Position           309 non-null    object \n",
      " 5   DOB                279 non-null    object \n",
      " 6   Sex                248 non-null    object \n",
      " 7   MaritalDesc        309 non-null    object \n",
      " 8   RaceDesc           309 non-null    object \n",
      " 9   DateofHire         309 non-null    object \n",
      " 10  DateofTermination  104 non-null    object \n",
      " 11  Department         309 non-null    object \n",
      " 12  ManagerName        309 non-null    object \n",
      " 13  ManagerID          301 non-null    float64\n",
      " 14  RecruitmentSource  309 non-null    object \n",
      " 15  Absences           279 non-null    float64\n",
      "dtypes: float64(5), object(11)\n",
      "memory usage: 39.0+ KB\n"
     ]
    }
   ],
   "source": [
    "df.info()"
   ]
  },
  {
   "cell_type": "code",
   "execution_count": 524,
   "id": "headed-birmingham",
   "metadata": {},
   "outputs": [
    {
     "data": {
      "text/html": [
       "<div>\n",
       "<style scoped>\n",
       "    .dataframe tbody tr th:only-of-type {\n",
       "        vertical-align: middle;\n",
       "    }\n",
       "\n",
       "    .dataframe tbody tr th {\n",
       "        vertical-align: top;\n",
       "    }\n",
       "\n",
       "    .dataframe thead th {\n",
       "        text-align: right;\n",
       "    }\n",
       "</style>\n",
       "<table border=\"1\" class=\"dataframe\">\n",
       "  <thead>\n",
       "    <tr style=\"text-align: right;\">\n",
       "      <th></th>\n",
       "      <th>EmpID</th>\n",
       "      <th>Salary</th>\n",
       "      <th>PositionID</th>\n",
       "      <th>ManagerID</th>\n",
       "      <th>Absences</th>\n",
       "    </tr>\n",
       "  </thead>\n",
       "  <tbody>\n",
       "    <tr>\n",
       "      <th>count</th>\n",
       "      <td>309.000000</td>\n",
       "      <td>248.000000</td>\n",
       "      <td>309.000000</td>\n",
       "      <td>301.000000</td>\n",
       "      <td>279.000000</td>\n",
       "    </tr>\n",
       "    <tr>\n",
       "      <th>mean</th>\n",
       "      <td>10156.679612</td>\n",
       "      <td>67869.512097</td>\n",
       "      <td>16.902913</td>\n",
       "      <td>14.611296</td>\n",
       "      <td>10.103943</td>\n",
       "    </tr>\n",
       "    <tr>\n",
       "      <th>std</th>\n",
       "      <td>89.769135</td>\n",
       "      <td>22984.617596</td>\n",
       "      <td>6.201981</td>\n",
       "      <td>8.081568</td>\n",
       "      <td>5.942768</td>\n",
       "    </tr>\n",
       "    <tr>\n",
       "      <th>min</th>\n",
       "      <td>10001.000000</td>\n",
       "      <td>45046.000000</td>\n",
       "      <td>1.000000</td>\n",
       "      <td>1.000000</td>\n",
       "      <td>1.000000</td>\n",
       "    </tr>\n",
       "    <tr>\n",
       "      <th>25%</th>\n",
       "      <td>10079.000000</td>\n",
       "      <td>55271.250000</td>\n",
       "      <td>18.000000</td>\n",
       "      <td>10.000000</td>\n",
       "      <td>4.500000</td>\n",
       "    </tr>\n",
       "    <tr>\n",
       "      <th>50%</th>\n",
       "      <td>10157.000000</td>\n",
       "      <td>62883.500000</td>\n",
       "      <td>19.000000</td>\n",
       "      <td>15.000000</td>\n",
       "      <td>10.000000</td>\n",
       "    </tr>\n",
       "    <tr>\n",
       "      <th>75%</th>\n",
       "      <td>10234.000000</td>\n",
       "      <td>70807.000000</td>\n",
       "      <td>20.000000</td>\n",
       "      <td>19.000000</td>\n",
       "      <td>15.000000</td>\n",
       "    </tr>\n",
       "    <tr>\n",
       "      <th>max</th>\n",
       "      <td>10311.000000</td>\n",
       "      <td>220450.000000</td>\n",
       "      <td>30.000000</td>\n",
       "      <td>39.000000</td>\n",
       "      <td>20.000000</td>\n",
       "    </tr>\n",
       "  </tbody>\n",
       "</table>\n",
       "</div>"
      ],
      "text/plain": [
       "              EmpID         Salary  PositionID   ManagerID    Absences\n",
       "count    309.000000     248.000000  309.000000  301.000000  279.000000\n",
       "mean   10156.679612   67869.512097   16.902913   14.611296   10.103943\n",
       "std       89.769135   22984.617596    6.201981    8.081568    5.942768\n",
       "min    10001.000000   45046.000000    1.000000    1.000000    1.000000\n",
       "25%    10079.000000   55271.250000   18.000000   10.000000    4.500000\n",
       "50%    10157.000000   62883.500000   19.000000   15.000000   10.000000\n",
       "75%    10234.000000   70807.000000   20.000000   19.000000   15.000000\n",
       "max    10311.000000  220450.000000   30.000000   39.000000   20.000000"
      ]
     },
     "execution_count": 524,
     "metadata": {},
     "output_type": "execute_result"
    }
   ],
   "source": [
    "df.describe()\n"
   ]
  },
  {
   "cell_type": "code",
   "execution_count": 525,
   "id": "dominant-freeze",
   "metadata": {},
   "outputs": [
    {
     "data": {
      "text/plain": [
       "Employee_Name         93\n",
       "EmpID                  2\n",
       "Salary                63\n",
       "PositionID             2\n",
       "Position               2\n",
       "DOB                   32\n",
       "Sex                   63\n",
       "MaritalDesc            2\n",
       "RaceDesc               2\n",
       "DateofHire             2\n",
       "DateofTermination    207\n",
       "Department             2\n",
       "ManagerName            2\n",
       "ManagerID             10\n",
       "RecruitmentSource      2\n",
       "Absences              32\n",
       "dtype: int64"
      ]
     },
     "execution_count": 525,
     "metadata": {},
     "output_type": "execute_result"
    }
   ],
   "source": [
    "df.isnull().sum() # probably we do not need emp_name to refer to that person. each one has a unique id as an EmpId"
   ]
  },
  {
   "cell_type": "code",
   "execution_count": 526,
   "id": "0291364b",
   "metadata": {},
   "outputs": [],
   "source": [
    "# px.box(df,x='Salary') not efficient   "
   ]
  },
  {
   "cell_type": "code",
   "execution_count": 527,
   "id": "fca010fb",
   "metadata": {},
   "outputs": [
    {
     "data": {
      "text/plain": [
       "32"
      ]
     },
     "execution_count": 527,
     "metadata": {},
     "output_type": "execute_result"
    }
   ],
   "source": [
    "list1 = ['Production Technician I', 'Sr. DBA', 'Production Technician II',\n",
    "       'Software Engineer', 'IT Support', 'Data Analyst',\n",
    "       'Database Administrator', 'Enterprise Architect', 'Sr. Accountant',\n",
    "       'Production Manager', 'Accountant I', 'Area Sales Manager',\n",
    "       'Software Engineering Manager', 'BI Director',\n",
    "       'Director of Operations', 'Sr. Network Engineer', 'Sales Manager',\n",
    "       'BI Developer', 'IT Manager - Support', 'Network Engineer',\n",
    "       'IT Director', 'Director of Sales', 'Administrative Assistant',\n",
    "       'President & CEO', 'Senior BI Developer',\n",
    "       'Shared Services Manager', 'IT Manager - Infra',\n",
    "       'Principal Data Architect', 'Data Architect', 'IT Manager - DB',\n",
    "       'Data Analyst ', 'CIO']\n",
    "len(list1) # check number of available positions"
   ]
  },
  {
   "cell_type": "code",
   "execution_count": 528,
   "id": "848daa60",
   "metadata": {},
   "outputs": [
    {
     "data": {
      "image/png": "[encoded data removed]",
      "text/plain": [
       "<Figure size 1000x1000 with 1 Axes>"
      ]
     },
     "metadata": {},
     "output_type": "display_data"
    }
   ],
   "source": [
    "plt.figure(figsize=(10,10))\n",
    "sns.boxplot(x='Salary',y='Position',data=df)\n",
    "plt.xlabel('Salary')\n",
    "plt.ylabel('Position')\n",
    "plt.title('Average Salaries Based on Position')\n",
    "plt.show()"
   ]
  },
  {
   "cell_type": "code",
   "execution_count": 529,
   "id": "794c6bdd",
   "metadata": {},
   "outputs": [
    {
     "data": {
      "application/vnd.plotly.v1+json": {
       "config": {
        "plotlyServerURL": "https://plot.ly"
       },
       "data": [
        {
         "alignmentgroup": "True",
         "bingroup": "x",
         "hovertemplate": "RecruitmentSource=%{x}<br>count=%{y}<extra></extra>",
         "legendgroup": "",
         "marker": {
          "color": "#636efa",
          "pattern": {
           "shape": ""
          }
         },
         "name": "",
         "offsetgroup": "",
         "orientation": "v",
         "showlegend": false,
         "type": "histogram",
         "x": [
          "LinkedIn",
          "Indeed",
          "LinkedIn",
          "Indeed",
          "Google Search",
          "LinkedIn",
          "LinkedIn",
          "Employee Referral",
          "Diversity Job Fair",
          "Indeed",
          "Diversity Job Fair",
          "Diversity Job Fair",
          "Diversity Job Fair",
          "Google Search",
          "On-line Web application",
          "Google Search",
          "Employee Referral",
          "Google Search",
          "Google Search",
          "LinkedIn",
          "Google Search",
          "Indeed",
          "Indeed",
          "CareerBuilder",
          "Google Search",
          "LinkedIn",
          "Diversity Job Fair",
          "Indeed",
          "Google Search",
          "Diversity Job Fair",
          "Google Search",
          "Diversity Job Fair",
          "Google Search",
          "Employee Referral",
          "Indeed",
          "Google Search",
          "Indeed",
          "Indeed",
          "LinkedIn",
          "LinkedIn",
          "Indeed",
          "Google Search",
          "Indeed",
          "Indeed",
          "LinkedIn",
          "Employee Referral",
          "Indeed",
          "Indeed",
          "Indeed",
          "Google Search",
          "Indeed",
          "Employee Referral",
          "Employee Referral",
          "LinkedIn",
          "CareerBuilder",
          "Indeed",
          "Indeed",
          "Indeed",
          "LinkedIn",
          "Employee Referral",
          "Indeed",
          "LinkedIn",
          "Indeed",
          "LinkedIn",
          "Indeed",
          "Indeed",
          "CareerBuilder",
          "Indeed",
          "Google Search",
          "Indeed",
          "Indeed",
          "Indeed",
          "Website",
          "Indeed",
          "CareerBuilder",
          "Employee Referral",
          "Indeed",
          "Indeed",
          "Google Search",
          "Google Search",
          "Google Search",
          "LinkedIn",
          "Employee Referral",
          "Indeed",
          "Google Search",
          "Google Search",
          "Indeed",
          "LinkedIn",
          "LinkedIn",
          "Google Search",
          "Indeed",
          "LinkedIn",
          "Google Search",
          "Google Search",
          "Google Search",
          "Employee Referral",
          "Indeed",
          "Other",
          "CareerBuilder",
          "LinkedIn",
          "Employee Referral",
          "LinkedIn",
          "LinkedIn",
          "Diversity Job Fair",
          "CareerBuilder",
          "Diversity Job Fair",
          "Indeed",
          "Indeed",
          "Indeed",
          "LinkedIn",
          "Indeed",
          "Diversity Job Fair",
          "Diversity Job Fair",
          "Employee Referral",
          "LinkedIn",
          "LinkedIn",
          "Google Search",
          "LinkedIn",
          "Employee Referral",
          "CareerBuilder",
          "Indeed",
          "LinkedIn",
          "Google Search",
          "LinkedIn",
          "CareerBuilder",
          "CareerBuilder",
          "Google Search",
          "CareerBuilder",
          "Indeed",
          "Indeed",
          "Indeed",
          "LinkedIn",
          "Indeed",
          "LinkedIn",
          "LinkedIn",
          "Indeed",
          "Google Search",
          "Indeed",
          "Indeed",
          "LinkedIn",
          "Employee Referral",
          "LinkedIn",
          "LinkedIn",
          "CareerBuilder",
          "Indeed",
          "LinkedIn",
          "CareerBuilder",
          "Google Search",
          "Indeed",
          "Indeed",
          "Indeed",
          "Google Search",
          "Google Search",
          "LinkedIn",
          "Indeed",
          "Diversity Job Fair",
          "Employee Referral",
          "Employee Referral",
          "Indeed",
          "LinkedIn",
          "Website",
          "Google Search",
          "Indeed",
          "CareerBuilder",
          "CareerBuilder",
          "Google Search",
          "Website",
          "Website",
          "Indeed",
          "LinkedIn",
          "Diversity Job Fair",
          "LinkedIn",
          "Indeed",
          "Website",
          "Diversity Job Fair",
          "Indeed",
          "LinkedIn",
          "LinkedIn",
          "LinkedIn",
          "LinkedIn",
          "Google Search",
          "Indeed",
          "LinkedIn",
          "CareerBuilder",
          "Website",
          "Diversity Job Fair",
          "CareerBuilder",
          "Indeed",
          "LinkedIn",
          "LinkedIn",
          "Diversity Job Fair",
          "Indeed",
          "Diversity Job Fair",
          "CareerBuilder",
          "LinkedIn",
          "LinkedIn",
          "LinkedIn",
          "Indeed",
          "Diversity Job Fair",
          "Employee Referral",
          "LinkedIn",
          "Diversity Job Fair",
          "Indeed",
          "LinkedIn",
          "Indeed",
          "LinkedIn",
          "LinkedIn",
          "Indeed",
          "LinkedIn",
          "LinkedIn",
          "Website",
          "Google Search",
          "Diversity Job Fair",
          "Employee Referral",
          "Google Search",
          "CareerBuilder",
          "LinkedIn",
          "Indeed",
          "Indeed",
          "LinkedIn",
          null,
          "Google Search",
          "Google Search",
          "Website",
          "Google Search",
          "Employee Referral",
          "Indeed",
          "Diversity Job Fair",
          "Indeed",
          "Indeed",
          "CareerBuilder",
          "LinkedIn",
          "Google Search",
          "Google Search",
          "Indeed",
          "Indeed",
          "Indeed",
          "Employee Referral",
          "Employee Referral",
          "LinkedIn",
          null,
          "Website",
          "Google Search",
          "Indeed",
          "Diversity Job Fair",
          "Indeed",
          "Diversity Job Fair",
          "Google Search",
          "CareerBuilder",
          "LinkedIn",
          "LinkedIn",
          "Google Search",
          "LinkedIn",
          "LinkedIn",
          "Employee Referral",
          "Website",
          "CareerBuilder",
          "Indeed",
          "Diversity Job Fair",
          "Diversity Job Fair",
          "Employee Referral",
          "LinkedIn",
          "LinkedIn",
          "Indeed",
          "LinkedIn",
          "LinkedIn",
          "Google Search",
          "Website",
          "Indeed",
          "LinkedIn",
          "Indeed",
          "Indeed",
          "Google Search",
          "Indeed",
          "LinkedIn",
          "Indeed",
          "Diversity Job Fair",
          "Google Search",
          "Indeed",
          "Indeed",
          "Other",
          "Indeed",
          "Indeed",
          "LinkedIn",
          "CareerBuilder",
          "Diversity Job Fair",
          "LinkedIn",
          "Employee Referral",
          "Indeed",
          "LinkedIn",
          "Employee Referral",
          "Website",
          "Employee Referral",
          "Google Search",
          "LinkedIn",
          "Employee Referral",
          "Diversity Job Fair",
          "CareerBuilder",
          "Indeed",
          "Employee Referral",
          "LinkedIn",
          "Website",
          "Google Search",
          "Diversity Job Fair",
          "LinkedIn",
          "LinkedIn",
          "LinkedIn",
          "Google Search",
          "Employee Referral",
          "Employee Referral",
          "LinkedIn"
         ],
         "xaxis": "x",
         "yaxis": "y"
        }
       ],
       "layout": {
        "barmode": "relative",
        "legend": {
         "tracegroupgap": 0
        },
        "margin": {
         "t": 60
        },
        "template": {
         "data": {
          "bar": [
           {
            "error_x": {
             "color": "#2a3f5f"
            },
            "error_y": {
             "color": "#2a3f5f"
            },
            "marker": {
             "line": {
              "color": "#E5ECF6",
              "width": 0.5
             },
             "pattern": {
              "fillmode": "overlay",
              "size": 10,
              "solidity": 0.2
             }
            },
            "type": "bar"
           }
          ],
          "barpolar": [
           {
            "marker": {
             "line": {
              "color": "#E5ECF6",
              "width": 0.5
             },
             "pattern": {
              "fillmode": "overlay",
              "size": 10,
              "solidity": 0.2
             }
            },
            "type": "barpolar"
           }
          ],
          "carpet": [
           {
            "aaxis": {
             "endlinecolor": "#2a3f5f",
             "gridcolor": "white",
             "linecolor": "white",
             "minorgridcolor": "white",
             "startlinecolor": "#2a3f5f"
            },
            "baxis": {
             "endlinecolor": "#2a3f5f",
             "gridcolor": "white",
             "linecolor": "white",
             "minorgridcolor": "white",
             "startlinecolor": "#2a3f5f"
            },
            "type": "carpet"
           }
          ],
          "choropleth": [
           {
            "colorbar": {
             "outlinewidth": 0,
             "ticks": ""
            },
            "type": "choropleth"
           }
          ],
          "contour": [
           {
            "colorbar": {
             "outlinewidth": 0,
             "ticks": ""
            },
            "colorscale": [
             [
              0,
              "#0d0887"
             ],
             [
              0.1111111111111111,
              "#46039f"
             ],
             [
              0.2222222222222222,
              "#7201a8"
             ],
             [
              0.3333333333333333,
              "#9c179e"
             ],
             [
              0.4444444444444444,
              "#bd3786"
             ],
             [
              0.5555555555555556,
              "#d8576b"
             ],
             [
              0.6666666666666666,
              "#ed7953"
             ],
             [
              0.7777777777777778,
              "#fb9f3a"
             ],
             [
              0.8888888888888888,
              "#fdca26"
             ],
             [
              1,
              "#f0f921"
             ]
            ],
            "type": "contour"
           }
          ],
          "contourcarpet": [
           {
            "colorbar": {
             "outlinewidth": 0,
             "ticks": ""
            },
            "type": "contourcarpet"
           }
          ],
          "heatmap": [
           {
            "colorbar": {
             "outlinewidth": 0,
             "ticks": ""
            },
            "colorscale": [
             [
              0,
              "#0d0887"
             ],
             [
              0.1111111111111111,
              "#46039f"
             ],
             [
              0.2222222222222222,
              "#7201a8"
             ],
             [
              0.3333333333333333,
              "#9c179e"
             ],
             [
              0.4444444444444444,
              "#bd3786"
             ],
             [
              0.5555555555555556,
              "#d8576b"
             ],
             [
              0.6666666666666666,
              "#ed7953"
             ],
             [
              0.7777777777777778,
              "#fb9f3a"
             ],
             [
              0.8888888888888888,
              "#fdca26"
             ],
             [
              1,
              "#f0f921"
             ]
            ],
            "type": "heatmap"
           }
          ],
          "heatmapgl": [
           {
            "colorbar": {
             "outlinewidth": 0,
             "ticks": ""
            },
            "colorscale": [
             [
              0,
              "#0d0887"
             ],
             [
              0.1111111111111111,
              "#46039f"
             ],
             [
              0.2222222222222222,
              "#7201a8"
             ],
             [
              0.3333333333333333,
              "#9c179e"
             ],
             [
              0.4444444444444444,
              "#bd3786"
             ],
             [
              0.5555555555555556,
              "#d8576b"
             ],
             [
              0.6666666666666666,
              "#ed7953"
             ],
             [
              0.7777777777777778,
              "#fb9f3a"
             ],
             [
              0.8888888888888888,
              "#fdca26"
             ],
             [
              1,
              "#f0f921"
             ]
            ],
            "type": "heatmapgl"
           }
          ],
          "histogram": [
           {
            "marker": {
             "pattern": {
              "fillmode": "overlay",
              "size": 10,
              "solidity": 0.2
             }
            },
            "type": "histogram"
           }
          ],
          "histogram2d": [
           {
            "colorbar": {
             "outlinewidth": 0,
             "ticks": ""
            },
            "colorscale": [
             [
              0,
              "#0d0887"
             ],
             [
              0.1111111111111111,
              "#46039f"
             ],
             [
              0.2222222222222222,
              "#7201a8"
             ],
             [
              0.3333333333333333,
              "#9c179e"
             ],
             [
              0.4444444444444444,
              "#bd3786"
             ],
             [
              0.5555555555555556,
              "#d8576b"
             ],
             [
              0.6666666666666666,
              "#ed7953"
             ],
             [
              0.7777777777777778,
              "#fb9f3a"
             ],
             [
              0.8888888888888888,
              "#fdca26"
             ],
             [
              1,
              "#f0f921"
             ]
            ],
            "type": "histogram2d"
           }
          ],
          "histogram2dcontour": [
           {
            "colorbar": {
             "outlinewidth": 0,
             "ticks": ""
            },
            "colorscale": [
             [
              0,
              "#0d0887"
             ],
             [
              0.1111111111111111,
              "#46039f"
             ],
             [
              0.2222222222222222,
              "#7201a8"
             ],
             [
              0.3333333333333333,
              "#9c179e"
             ],
             [
              0.4444444444444444,
              "#bd3786"
             ],
             [
              0.5555555555555556,
              "#d8576b"
             ],
             [
              0.6666666666666666,
              "#ed7953"
             ],
             [
              0.7777777777777778,
              "#fb9f3a"
             ],
             [
              0.8888888888888888,
              "#fdca26"
             ],
             [
              1,
              "#f0f921"
             ]
            ],
            "type": "histogram2dcontour"
           }
          ],
          "mesh3d": [
           {
            "colorbar": {
             "outlinewidth": 0,
             "ticks": ""
            },
            "type": "mesh3d"
           }
          ],
          "parcoords": [
           {
            "line": {
             "colorbar": {
              "outlinewidth": 0,
              "ticks": ""
             }
            },
            "type": "parcoords"
           }
          ],
          "pie": [
           {
            "automargin": true,
            "type": "pie"
           }
          ],
          "scatter": [
           {
            "fillpattern": {
             "fillmode": "overlay",
             "size": 10,
             "solidity": 0.2
            },
            "type": "scatter"
           }
          ],
          "scatter3d": [
           {
            "line": {
             "colorbar": {
              "outlinewidth": 0,
              "ticks": ""
             }
            },
            "marker": {
             "colorbar": {
              "outlinewidth": 0,
              "ticks": ""
             }
            },
            "type": "scatter3d"
           }
          ],
          "scattercarpet": [
           {
            "marker": {
             "colorbar": {
              "outlinewidth": 0,
              "ticks": ""
             }
            },
            "type": "scattercarpet"
           }
          ],
          "scattergeo": [
           {
            "marker": {
             "colorbar": {
              "outlinewidth": 0,
              "ticks": ""
             }
            },
            "type": "scattergeo"
           }
          ],
          "scattergl": [
           {
            "marker": {
             "colorbar": {
              "outlinewidth": 0,
              "ticks": ""
             }
            },
            "type": "scattergl"
           }
          ],
          "scattermapbox": [
           {
            "marker": {
             "colorbar": {
              "outlinewidth": 0,
              "ticks": ""
             }
            },
            "type": "scattermapbox"
           }
          ],
          "scatterpolar": [
           {
            "marker": {
             "colorbar": {
              "outlinewidth": 0,
              "ticks": ""
             }
            },
            "type": "scatterpolar"
           }
          ],
          "scatterpolargl": [
           {
            "marker": {
             "colorbar": {
              "outlinewidth": 0,
              "ticks": ""
             }
            },
            "type": "scatterpolargl"
           }
          ],
          "scatterternary": [
           {
            "marker": {
             "colorbar": {
              "outlinewidth": 0,
              "ticks": ""
             }
            },
            "type": "scatterternary"
           }
          ],
          "surface": [
           {
            "colorbar": {
             "outlinewidth": 0,
             "ticks": ""
            },
            "colorscale": [
             [
              0,
              "#0d0887"
             ],
             [
              0.1111111111111111,
              "#46039f"
             ],
             [
              0.2222222222222222,
              "#7201a8"
             ],
             [
              0.3333333333333333,
              "#9c179e"
             ],
             [
              0.4444444444444444,
              "#bd3786"
             ],
             [
              0.5555555555555556,
              "#d8576b"
             ],
             [
              0.6666666666666666,
              "#ed7953"
             ],
             [
              0.7777777777777778,
              "#fb9f3a"
             ],
             [
              0.8888888888888888,
              "#fdca26"
             ],
             [
              1,
              "#f0f921"
             ]
            ],
            "type": "surface"
           }
          ],
          "table": [
           {
            "cells": {
             "fill": {
              "color": "#EBF0F8"
             },
             "line": {
              "color": "white"
             }
            },
            "header": {
             "fill": {
              "color": "#C8D4E3"
             },
             "line": {
              "color": "white"
             }
            },
            "type": "table"
           }
          ]
         },
         "layout": {
          "annotationdefaults": {
           "arrowcolor": "#2a3f5f",
           "arrowhead": 0,
           "arrowwidth": 1
          },
          "autotypenumbers": "strict",
          "coloraxis": {
           "colorbar": {
            "outlinewidth": 0,
            "ticks": ""
           }
          },
          "colorscale": {
           "diverging": [
            [
             0,
             "#8e0152"
            ],
            [
             0.1,
             "#c51b7d"
            ],
            [
             0.2,
             "#de77ae"
            ],
            [
             0.3,
             "#f1b6da"
            ],
            [
             0.4,
             "#fde0ef"
            ],
            [
             0.5,
             "#f7f7f7"
            ],
            [
             0.6,
             "#e6f5d0"
            ],
            [
             0.7,
             "#b8e186"
            ],
            [
             0.8,
             "#7fbc41"
            ],
            [
             0.9,
             "#4d9221"
            ],
            [
             1,
             "#276419"
            ]
           ],
           "sequential": [
            [
             0,
             "#0d0887"
            ],
            [
             0.1111111111111111,
             "#46039f"
            ],
            [
             0.2222222222222222,
             "#7201a8"
            ],
            [
             0.3333333333333333,
             "#9c179e"
            ],
            [
             0.4444444444444444,
             "#bd3786"
            ],
            [
             0.5555555555555556,
             "#d8576b"
            ],
            [
             0.6666666666666666,
             "#ed7953"
            ],
            [
             0.7777777777777778,
             "#fb9f3a"
            ],
            [
             0.8888888888888888,
             "#fdca26"
            ],
            [
             1,
             "#f0f921"
            ]
           ],
           "sequentialminus": [
            [
             0,
             "#0d0887"
            ],
            [
             0.1111111111111111,
             "#46039f"
            ],
            [
             0.2222222222222222,
             "#7201a8"
            ],
            [
             0.3333333333333333,
             "#9c179e"
            ],
            [
             0.4444444444444444,
             "#bd3786"
            ],
            [
             0.5555555555555556,
             "#d8576b"
            ],
            [
             0.6666666666666666,
             "#ed7953"
            ],
            [
             0.7777777777777778,
             "#fb9f3a"
            ],
            [
             0.8888888888888888,
             "#fdca26"
            ],
            [
             1,
             "#f0f921"
            ]
           ]
          },
          "colorway": [
           "#636efa",
           "#EF553B",
           "#00cc96",
           "#ab63fa",
           "#FFA15A",
           "#19d3f3",
           "#FF6692",
           "#B6E880",
           "#FF97FF",
           "#FECB52"
          ],
          "font": {
           "color": "#2a3f5f"
          },
          "geo": {
           "bgcolor": "white",
           "lakecolor": "white",
           "landcolor": "#E5ECF6",
           "showlakes": true,
           "showland": true,
           "subunitcolor": "white"
          },
          "hoverlabel": {
           "align": "left"
          },
          "hovermode": "closest",
          "mapbox": {
           "style": "light"
          },
          "paper_bgcolor": "white",
          "plot_bgcolor": "#E5ECF6",
          "polar": {
           "angularaxis": {
            "gridcolor": "white",
            "linecolor": "white",
            "ticks": ""
           },
           "bgcolor": "#E5ECF6",
           "radialaxis": {
            "gridcolor": "white",
            "linecolor": "white",
            "ticks": ""
           }
          },
          "scene": {
           "xaxis": {
            "backgroundcolor": "#E5ECF6",
            "gridcolor": "white",
            "gridwidth": 2,
            "linecolor": "white",
            "showbackground": true,
            "ticks": "",
            "zerolinecolor": "white"
           },
           "yaxis": {
            "backgroundcolor": "#E5ECF6",
            "gridcolor": "white",
            "gridwidth": 2,
            "linecolor": "white",
            "showbackground": true,
            "ticks": "",
            "zerolinecolor": "white"
           },
           "zaxis": {
            "backgroundcolor": "#E5ECF6",
            "gridcolor": "white",
            "gridwidth": 2,
            "linecolor": "white",
            "showbackground": true,
            "ticks": "",
            "zerolinecolor": "white"
           }
          },
          "shapedefaults": {
           "line": {
            "color": "#2a3f5f"
           }
          },
          "ternary": {
           "aaxis": {
            "gridcolor": "white",
            "linecolor": "white",
            "ticks": ""
           },
           "baxis": {
            "gridcolor": "white",
            "linecolor": "white",
            "ticks": ""
           },
           "bgcolor": "#E5ECF6",
           "caxis": {
            "gridcolor": "white",
            "linecolor": "white",
            "ticks": ""
           }
          },
          "title": {
           "x": 0.05
          },
          "xaxis": {
           "automargin": true,
           "gridcolor": "white",
           "linecolor": "white",
           "ticks": "",
           "title": {
            "standoff": 15
           },
           "zerolinecolor": "white",
           "zerolinewidth": 2
          },
          "yaxis": {
           "automargin": true,
           "gridcolor": "white",
           "linecolor": "white",
           "ticks": "",
           "title": {
            "standoff": 15
           },
           "zerolinecolor": "white",
           "zerolinewidth": 2
          }
         }
        },
        "title": {
         "text": "Number of Employees by Recruitment Source"
        },
        "xaxis": {
         "anchor": "y",
         "categoryorder": "total descending",
         "domain": [
          0,
          1
         ],
         "title": {
          "text": "Recruitment Sources"
         }
        },
        "yaxis": {
         "anchor": "x",
         "domain": [
          0,
          1
         ],
         "title": {
          "text": "Number of Employees"
         }
        }
       }
      },
      "text/html": [
       "<div>                            <div id=\"d62cc8d7-aa9e-46a4-afee-e460a8bff4a1\" class=\"plotly-graph-div\" style=\"height:525px; width:100%;\"></div>            <script type=\"text/javascript\">                require([\"plotly\"], function(Plotly) {                    window.PLOTLYENV=window.PLOTLYENV || {};                                    if (document.getElementById(\"d62cc8d7-aa9e-46a4-afee-e460a8bff4a1\")) {                    Plotly.newPlot(                        \"d62cc8d7-aa9e-46a4-afee-e460a8bff4a1\",                        [{\"alignmentgroup\":\"True\",\"bingroup\":\"x\",\"hovertemplate\":\"RecruitmentSource=%{x}<br>count=%{y}<extra></extra>\",\"legendgroup\":\"\",\"marker\":{\"color\":\"#636efa\",\"pattern\":{\"shape\":\"\"}},\"name\":\"\",\"offsetgroup\":\"\",\"orientation\":\"v\",\"showlegend\":false,\"x\":[\"LinkedIn\",\"Indeed\",\"LinkedIn\",\"Indeed\",\"Google Search\",\"LinkedIn\",\"LinkedIn\",\"Employee Referral\",\"Diversity Job Fair\",\"Indeed\",\"Diversity Job Fair\",\"Diversity Job Fair\",\"Diversity Job Fair\",\"Google Search\",\"On-line Web application\",\"Google Search\",\"Employee Referral\",\"Google Search\",\"Google Search\",\"LinkedIn\",\"Google Search\",\"Indeed\",\"Indeed\",\"CareerBuilder\",\"Google Search\",\"LinkedIn\",\"Diversity Job Fair\",\"Indeed\",\"Google Search\",\"Diversity Job Fair\",\"Google Search\",\"Diversity Job Fair\",\"Google Search\",\"Employee Referral\",\"Indeed\",\"Google Search\",\"Indeed\",\"Indeed\",\"LinkedIn\",\"LinkedIn\",\"Indeed\",\"Google Search\",\"Indeed\",\"Indeed\",\"LinkedIn\",\"Employee Referral\",\"Indeed\",\"Indeed\",\"Indeed\",\"Google Search\",\"Indeed\",\"Employee Referral\",\"Employee Referral\",\"LinkedIn\",\"CareerBuilder\",\"Indeed\",\"Indeed\",\"Indeed\",\"LinkedIn\",\"Employee Referral\",\"Indeed\",\"LinkedIn\",\"Indeed\",\"LinkedIn\",\"Indeed\",\"Indeed\",\"CareerBuilder\",\"Indeed\",\"Google Search\",\"Indeed\",\"Indeed\",\"Indeed\",\"Website\",\"Indeed\",\"CareerBuilder\",\"Employee Referral\",\"Indeed\",\"Indeed\",\"Google Search\",\"Google Search\",\"Google Search\",\"LinkedIn\",\"Employee Referral\",\"Indeed\",\"Google Search\",\"Google Search\",\"Indeed\",\"LinkedIn\",\"LinkedIn\",\"Google Search\",\"Indeed\",\"LinkedIn\",\"Google Search\",\"Google Search\",\"Google Search\",\"Employee Referral\",\"Indeed\",\"Other\",\"CareerBuilder\",\"LinkedIn\",\"Employee Referral\",\"LinkedIn\",\"LinkedIn\",\"Diversity Job Fair\",\"CareerBuilder\",\"Diversity Job Fair\",\"Indeed\",\"Indeed\",\"Indeed\",\"LinkedIn\",\"Indeed\",\"Diversity Job Fair\",\"Diversity Job Fair\",\"Employee Referral\",\"LinkedIn\",\"LinkedIn\",\"Google Search\",\"LinkedIn\",\"Employee Referral\",\"CareerBuilder\",\"Indeed\",\"LinkedIn\",\"Google Search\",\"LinkedIn\",\"CareerBuilder\",\"CareerBuilder\",\"Google Search\",\"CareerBuilder\",\"Indeed\",\"Indeed\",\"Indeed\",\"LinkedIn\",\"Indeed\",\"LinkedIn\",\"LinkedIn\",\"Indeed\",\"Google Search\",\"Indeed\",\"Indeed\",\"LinkedIn\",\"Employee Referral\",\"LinkedIn\",\"LinkedIn\",\"CareerBuilder\",\"Indeed\",\"LinkedIn\",\"CareerBuilder\",\"Google Search\",\"Indeed\",\"Indeed\",\"Indeed\",\"Google Search\",\"Google Search\",\"LinkedIn\",\"Indeed\",\"Diversity Job Fair\",\"Employee Referral\",\"Employee Referral\",\"Indeed\",\"LinkedIn\",\"Website\",\"Google Search\",\"Indeed\",\"CareerBuilder\",\"CareerBuilder\",\"Google Search\",\"Website\",\"Website\",\"Indeed\",\"LinkedIn\",\"Diversity Job Fair\",\"LinkedIn\",\"Indeed\",\"Website\",\"Diversity Job Fair\",\"Indeed\",\"LinkedIn\",\"LinkedIn\",\"LinkedIn\",\"LinkedIn\",\"Google Search\",\"Indeed\",\"LinkedIn\",\"CareerBuilder\",\"Website\",\"Diversity Job Fair\",\"CareerBuilder\",\"Indeed\",\"LinkedIn\",\"LinkedIn\",\"Diversity Job Fair\",\"Indeed\",\"Diversity Job Fair\",\"CareerBuilder\",\"LinkedIn\",\"LinkedIn\",\"LinkedIn\",\"Indeed\",\"Diversity Job Fair\",\"Employee Referral\",\"LinkedIn\",\"Diversity Job Fair\",\"Indeed\",\"LinkedIn\",\"Indeed\",\"LinkedIn\",\"LinkedIn\",\"Indeed\",\"LinkedIn\",\"LinkedIn\",\"Website\",\"Google Search\",\"Diversity Job Fair\",\"Employee Referral\",\"Google Search\",\"CareerBuilder\",\"LinkedIn\",\"Indeed\",\"Indeed\",\"LinkedIn\",null,\"Google Search\",\"Google Search\",\"Website\",\"Google Search\",\"Employee Referral\",\"Indeed\",\"Diversity Job Fair\",\"Indeed\",\"Indeed\",\"CareerBuilder\",\"LinkedIn\",\"Google Search\",\"Google Search\",\"Indeed\",\"Indeed\",\"Indeed\",\"Employee Referral\",\"Employee Referral\",\"LinkedIn\",null,\"Website\",\"Google Search\",\"Indeed\",\"Diversity Job Fair\",\"Indeed\",\"Diversity Job Fair\",\"Google Search\",\"CareerBuilder\",\"LinkedIn\",\"LinkedIn\",\"Google Search\",\"LinkedIn\",\"LinkedIn\",\"Employee Referral\",\"Website\",\"CareerBuilder\",\"Indeed\",\"Diversity Job Fair\",\"Diversity Job Fair\",\"Employee Referral\",\"LinkedIn\",\"LinkedIn\",\"Indeed\",\"LinkedIn\",\"LinkedIn\",\"Google Search\",\"Website\",\"Indeed\",\"LinkedIn\",\"Indeed\",\"Indeed\",\"Google Search\",\"Indeed\",\"LinkedIn\",\"Indeed\",\"Diversity Job Fair\",\"Google Search\",\"Indeed\",\"Indeed\",\"Other\",\"Indeed\",\"Indeed\",\"LinkedIn\",\"CareerBuilder\",\"Diversity Job Fair\",\"LinkedIn\",\"Employee Referral\",\"Indeed\",\"LinkedIn\",\"Employee Referral\",\"Website\",\"Employee Referral\",\"Google Search\",\"LinkedIn\",\"Employee Referral\",\"Diversity Job Fair\",\"CareerBuilder\",\"Indeed\",\"Employee Referral\",\"LinkedIn\",\"Website\",\"Google Search\",\"Diversity Job Fair\",\"LinkedIn\",\"LinkedIn\",\"LinkedIn\",\"Google Search\",\"Employee Referral\",\"Employee Referral\",\"LinkedIn\"],\"xaxis\":\"x\",\"yaxis\":\"y\",\"type\":\"histogram\"}],                        {\"template\":{\"data\":{\"histogram2dcontour\":[{\"type\":\"histogram2dcontour\",\"colorbar\":{\"outlinewidth\":0,\"ticks\":\"\"},\"colorscale\":[[0.0,\"#0d0887\"],[0.1111111111111111,\"#46039f\"],[0.2222222222222222,\"#7201a8\"],[0.3333333333333333,\"#9c179e\"],[0.4444444444444444,\"#bd3786\"],[0.5555555555555556,\"#d8576b\"],[0.6666666666666666,\"#ed7953\"],[0.7777777777777778,\"#fb9f3a\"],[0.8888888888888888,\"#fdca26\"],[1.0,\"#f0f921\"]]}],\"choropleth\":[{\"type\":\"choropleth\",\"colorbar\":{\"outlinewidth\":0,\"ticks\":\"\"}}],\"histogram2d\":[{\"type\":\"histogram2d\",\"colorbar\":{\"outlinewidth\":0,\"ticks\":\"\"},\"colorscale\":[[0.0,\"#0d0887\"],[0.1111111111111111,\"#46039f\"],[0.2222222222222222,\"#7201a8\"],[0.3333333333333333,\"#9c179e\"],[0.4444444444444444,\"#bd3786\"],[0.5555555555555556,\"#d8576b\"],[0.6666666666666666,\"#ed7953\"],[0.7777777777777778,\"#fb9f3a\"],[0.8888888888888888,\"#fdca26\"],[1.0,\"#f0f921\"]]}],\"heatmap\":[{\"type\":\"heatmap\",\"colorbar\":{\"outlinewidth\":0,\"ticks\":\"\"},\"colorscale\":[[0.0,\"#0d0887\"],[0.1111111111111111,\"#46039f\"],[0.2222222222222222,\"#7201a8\"],[0.3333333333333333,\"#9c179e\"],[0.4444444444444444,\"#bd3786\"],[0.5555555555555556,\"#d8576b\"],[0.6666666666666666,\"#ed7953\"],[0.7777777777777778,\"#fb9f3a\"],[0.8888888888888888,\"#fdca26\"],[1.0,\"#f0f921\"]]}],\"heatmapgl\":[{\"type\":\"heatmapgl\",\"colorbar\":{\"outlinewidth\":0,\"ticks\":\"\"},\"colorscale\":[[0.0,\"#0d0887\"],[0.1111111111111111,\"#46039f\"],[0.2222222222222222,\"#7201a8\"],[0.3333333333333333,\"#9c179e\"],[0.4444444444444444,\"#bd3786\"],[0.5555555555555556,\"#d8576b\"],[0.6666666666666666,\"#ed7953\"],[0.7777777777777778,\"#fb9f3a\"],[0.8888888888888888,\"#fdca26\"],[1.0,\"#f0f921\"]]}],\"contourcarpet\":[{\"type\":\"contourcarpet\",\"colorbar\":{\"outlinewidth\":0,\"ticks\":\"\"}}],\"contour\":[{\"type\":\"contour\",\"colorbar\":{\"outlinewidth\":0,\"ticks\":\"\"},\"colorscale\":[[0.0,\"#0d0887\"],[0.1111111111111111,\"#46039f\"],[0.2222222222222222,\"#7201a8\"],[0.3333333333333333,\"#9c179e\"],[0.4444444444444444,\"#bd3786\"],[0.5555555555555556,\"#d8576b\"],[0.6666666666666666,\"#ed7953\"],[0.7777777777777778,\"#fb9f3a\"],[0.8888888888888888,\"#fdca26\"],[1.0,\"#f0f921\"]]}],\"surface\":[{\"type\":\"surface\",\"colorbar\":{\"outlinewidth\":0,\"ticks\":\"\"},\"colorscale\":[[0.0,\"#0d0887\"],[0.1111111111111111,\"#46039f\"],[0.2222222222222222,\"#7201a8\"],[0.3333333333333333,\"#9c179e\"],[0.4444444444444444,\"#bd3786\"],[0.5555555555555556,\"#d8576b\"],[0.6666666666666666,\"#ed7953\"],[0.7777777777777778,\"#fb9f3a\"],[0.8888888888888888,\"#fdca26\"],[1.0,\"#f0f921\"]]}],\"mesh3d\":[{\"type\":\"mesh3d\",\"colorbar\":{\"outlinewidth\":0,\"ticks\":\"\"}}],\"scatter\":[{\"fillpattern\":{\"fillmode\":\"overlay\",\"size\":10,\"solidity\":0.2},\"type\":\"scatter\"}],\"parcoords\":[{\"type\":\"parcoords\",\"line\":{\"colorbar\":{\"outlinewidth\":0,\"ticks\":\"\"}}}],\"scatterpolargl\":[{\"type\":\"scatterpolargl\",\"marker\":{\"colorbar\":{\"outlinewidth\":0,\"ticks\":\"\"}}}],\"bar\":[{\"error_x\":{\"color\":\"#2a3f5f\"},\"error_y\":{\"color\":\"#2a3f5f\"},\"marker\":{\"line\":{\"color\":\"#E5ECF6\",\"width\":0.5},\"pattern\":{\"fillmode\":\"overlay\",\"size\":10,\"solidity\":0.2}},\"type\":\"bar\"}],\"scattergeo\":[{\"type\":\"scattergeo\",\"marker\":{\"colorbar\":{\"outlinewidth\":0,\"ticks\":\"\"}}}],\"scatterpolar\":[{\"type\":\"scatterpolar\",\"marker\":{\"colorbar\":{\"outlinewidth\":0,\"ticks\":\"\"}}}],\"histogram\":[{\"marker\":{\"pattern\":{\"fillmode\":\"overlay\",\"size\":10,\"solidity\":0.2}},\"type\":\"histogram\"}],\"scattergl\":[{\"type\":\"scattergl\",\"marker\":{\"colorbar\":{\"outlinewidth\":0,\"ticks\":\"\"}}}],\"scatter3d\":[{\"type\":\"scatter3d\",\"line\":{\"colorbar\":{\"outlinewidth\":0,\"ticks\":\"\"}},\"marker\":{\"colorbar\":{\"outlinewidth\":0,\"ticks\":\"\"}}}],\"scattermapbox\":[{\"type\":\"scattermapbox\",\"marker\":{\"colorbar\":{\"outlinewidth\":0,\"ticks\":\"\"}}}],\"scatterternary\":[{\"type\":\"scatterternary\",\"marker\":{\"colorbar\":{\"outlinewidth\":0,\"ticks\":\"\"}}}],\"scattercarpet\":[{\"type\":\"scattercarpet\",\"marker\":{\"colorbar\":{\"outlinewidth\":0,\"ticks\":\"\"}}}],\"carpet\":[{\"aaxis\":{\"endlinecolor\":\"#2a3f5f\",\"gridcolor\":\"white\",\"linecolor\":\"white\",\"minorgridcolor\":\"white\",\"startlinecolor\":\"#2a3f5f\"},\"baxis\":{\"endlinecolor\":\"#2a3f5f\",\"gridcolor\":\"white\",\"linecolor\":\"white\",\"minorgridcolor\":\"white\",\"startlinecolor\":\"#2a3f5f\"},\"type\":\"carpet\"}],\"table\":[{\"cells\":{\"fill\":{\"color\":\"#EBF0F8\"},\"line\":{\"color\":\"white\"}},\"header\":{\"fill\":{\"color\":\"#C8D4E3\"},\"line\":{\"color\":\"white\"}},\"type\":\"table\"}],\"barpolar\":[{\"marker\":{\"line\":{\"color\":\"#E5ECF6\",\"width\":0.5},\"pattern\":{\"fillmode\":\"overlay\",\"size\":10,\"solidity\":0.2}},\"type\":\"barpolar\"}],\"pie\":[{\"automargin\":true,\"type\":\"pie\"}]},\"layout\":{\"autotypenumbers\":\"strict\",\"colorway\":[\"#636efa\",\"#EF553B\",\"#00cc96\",\"#ab63fa\",\"#FFA15A\",\"#19d3f3\",\"#FF6692\",\"#B6E880\",\"#FF97FF\",\"#FECB52\"],\"font\":{\"color\":\"#2a3f5f\"},\"hovermode\":\"closest\",\"hoverlabel\":{\"align\":\"left\"},\"paper_bgcolor\":\"white\",\"plot_bgcolor\":\"#E5ECF6\",\"polar\":{\"bgcolor\":\"#E5ECF6\",\"angularaxis\":{\"gridcolor\":\"white\",\"linecolor\":\"white\",\"ticks\":\"\"},\"radialaxis\":{\"gridcolor\":\"white\",\"linecolor\":\"white\",\"ticks\":\"\"}},\"ternary\":{\"bgcolor\":\"#E5ECF6\",\"aaxis\":{\"gridcolor\":\"white\",\"linecolor\":\"white\",\"ticks\":\"\"},\"baxis\":{\"gridcolor\":\"white\",\"linecolor\":\"white\",\"ticks\":\"\"},\"caxis\":{\"gridcolor\":\"white\",\"linecolor\":\"white\",\"ticks\":\"\"}},\"coloraxis\":{\"colorbar\":{\"outlinewidth\":0,\"ticks\":\"\"}},\"colorscale\":{\"sequential\":[[0.0,\"#0d0887\"],[0.1111111111111111,\"#46039f\"],[0.2222222222222222,\"#7201a8\"],[0.3333333333333333,\"#9c179e\"],[0.4444444444444444,\"#bd3786\"],[0.5555555555555556,\"#d8576b\"],[0.6666666666666666,\"#ed7953\"],[0.7777777777777778,\"#fb9f3a\"],[0.8888888888888888,\"#fdca26\"],[1.0,\"#f0f921\"]],\"sequentialminus\":[[0.0,\"#0d0887\"],[0.1111111111111111,\"#46039f\"],[0.2222222222222222,\"#7201a8\"],[0.3333333333333333,\"#9c179e\"],[0.4444444444444444,\"#bd3786\"],[0.5555555555555556,\"#d8576b\"],[0.6666666666666666,\"#ed7953\"],[0.7777777777777778,\"#fb9f3a\"],[0.8888888888888888,\"#fdca26\"],[1.0,\"#f0f921\"]],\"diverging\":[[0,\"#8e0152\"],[0.1,\"#c51b7d\"],[0.2,\"#de77ae\"],[0.3,\"#f1b6da\"],[0.4,\"#fde0ef\"],[0.5,\"#f7f7f7\"],[0.6,\"#e6f5d0\"],[0.7,\"#b8e186\"],[0.8,\"#7fbc41\"],[0.9,\"#4d9221\"],[1,\"#276419\"]]},\"xaxis\":{\"gridcolor\":\"white\",\"linecolor\":\"white\",\"ticks\":\"\",\"title\":{\"standoff\":15},\"zerolinecolor\":\"white\",\"automargin\":true,\"zerolinewidth\":2},\"yaxis\":{\"gridcolor\":\"white\",\"linecolor\":\"white\",\"ticks\":\"\",\"title\":{\"standoff\":15},\"zerolinecolor\":\"white\",\"automargin\":true,\"zerolinewidth\":2},\"scene\":{\"xaxis\":{\"backgroundcolor\":\"#E5ECF6\",\"gridcolor\":\"white\",\"linecolor\":\"white\",\"showbackground\":true,\"ticks\":\"\",\"zerolinecolor\":\"white\",\"gridwidth\":2},\"yaxis\":{\"backgroundcolor\":\"#E5ECF6\",\"gridcolor\":\"white\",\"linecolor\":\"white\",\"showbackground\":true,\"ticks\":\"\",\"zerolinecolor\":\"white\",\"gridwidth\":2},\"zaxis\":{\"backgroundcolor\":\"#E5ECF6\",\"gridcolor\":\"white\",\"linecolor\":\"white\",\"showbackground\":true,\"ticks\":\"\",\"zerolinecolor\":\"white\",\"gridwidth\":2}},\"shapedefaults\":{\"line\":{\"color\":\"#2a3f5f\"}},\"annotationdefaults\":{\"arrowcolor\":\"#2a3f5f\",\"arrowhead\":0,\"arrowwidth\":1},\"geo\":{\"bgcolor\":\"white\",\"landcolor\":\"#E5ECF6\",\"subunitcolor\":\"white\",\"showland\":true,\"showlakes\":true,\"lakecolor\":\"white\"},\"title\":{\"x\":0.05},\"mapbox\":{\"style\":\"light\"}}},\"xaxis\":{\"anchor\":\"y\",\"domain\":[0.0,1.0],\"title\":{\"text\":\"Recruitment Sources\"},\"categoryorder\":\"total descending\"},\"yaxis\":{\"anchor\":\"x\",\"domain\":[0.0,1.0],\"title\":{\"text\":\"Number of Employees\"}},\"legend\":{\"tracegroupgap\":0},\"margin\":{\"t\":60},\"barmode\":\"relative\",\"title\":{\"text\":\"Number of Employees by Recruitment Source\"}},                        {\"responsive\": true}                    ).then(function(){\n",
       "                            \n",
       "var gd = document.getElementById('d62cc8d7-aa9e-46a4-afee-e460a8bff4a1');\n",
       "var x = new MutationObserver(function (mutations, observer) {{\n",
       "        var display = window.getComputedStyle(gd).display;\n",
       "        if (!display || display === 'none') {{\n",
       "            console.log([gd, 'removed!']);\n",
       "            Plotly.purge(gd);\n",
       "            observer.disconnect();\n",
       "        }}\n",
       "}});\n",
       "\n",
       "// Listen for the removal of the full notebook cells\n",
       "var notebookContainer = gd.closest('#notebook-container');\n",
       "if (notebookContainer) {{\n",
       "    x.observe(notebookContainer, {childList: true});\n",
       "}}\n",
       "\n",
       "// Listen for the clearing of the current output cell\n",
       "var outputEl = gd.closest('.output');\n",
       "if (outputEl) {{\n",
       "    x.observe(outputEl, {childList: true});\n",
       "}}\n",
       "\n",
       "                        })                };                });            </script>        </div>"
      ]
     },
     "metadata": {},
     "output_type": "display_data"
    }
   ],
   "source": [
    "\n",
    "fig = px.histogram(data_frame=df, x='RecruitmentSource')\n",
    "\n",
    "fig.update_xaxes(categoryorder='total descending')\n",
    "\n",
    "fig.update_layout(xaxis_title='Recruitment Sources', yaxis_title='Number of Employees', title='Number of Employees by Recruitment Source')\n",
    "\n",
    "fig.show()"
   ]
  },
  {
   "cell_type": "markdown",
   "id": "actual-protection",
   "metadata": {},
   "source": [
    "### Do the following steps for each column with missing values.\n",
    "* Identity the column.\n",
    "* How much precentage the missing value represents?\n",
    "* What is the best way to handle these missing values and why?\n",
    "* Apply your method to the column."
   ]
  },
  {
   "cell_type": "code",
   "execution_count": 530,
   "id": "b9847604",
   "metadata": {},
   "outputs": [],
   "source": [
    "emp_id = df['EmpID'] # as the two missing values represnts null values related to all columns they will be dropped\n",
    "employee_name = df['Employee_Name'] # will be dropped\n",
    "salary = df['Salary']\n",
    "position_id = df['PositionID']\n",
    "position = df['Position']\n",
    "date_of_termination = df['DateofTermination'] # null values represent people who r still working\n",
    "DOB = df['DOB']  # 32 null values\n",
    "Sex = df['Sex']  # 63 null values\n",
    "MaritalDesc = df['MaritalDesc']  # 2 null values\n",
    "RaceDesc = df['RaceDesc']  # 2 null values\n",
    "DateofHire = df['DateofHire']  # 2 null values\n",
    "DateofTermination = df['DateofTermination']  # 207 null values\n",
    "Department = df['Department']  # 2 null values\n",
    "ManagerName = df['ManagerName']  # 2 null values\n",
    "ManagerID = df['ManagerID']  # 10 null values\n",
    "RecruitmentSource = df['RecruitmentSource']  # 2 null values\n",
    "Absences = df['Absences']  # 32 null values\n"
   ]
  },
  {
   "cell_type": "code",
   "execution_count": 531,
   "id": "upper-movie",
   "metadata": {},
   "outputs": [
    {
     "name": "stdout",
     "output_type": "stream",
     "text": [
      "How much precentage the missing value represents?\n",
      "\n",
      "Employee name   30 %\n",
      "EmpID   1 %\n",
      "Salary   20 %\n",
      "PositionID   1 %\n",
      "Position   1 %\n",
      "DateofTermination   67 %\n",
      "DOB   10 %\n",
      "Sex   20 %\n",
      "MaritalDesc   1 %\n",
      "RaceDesc   1 %\n",
      "DateofHire   1 %\n",
      "Department   1 %\n",
      "ManagerName   1 %\n",
      "ManagerID   3 %\n",
      "RecruitmentSource   1 %\n",
      "Absences   10 %\n"
     ]
    }
   ],
   "source": [
    "variables = {\n",
    "    'Employee name': employee_name,\n",
    "    'EmpID': emp_id,\n",
    "    'Salary': salary,\n",
    "    'PositionID': position_id,\n",
    "    'Position': position,\n",
    "    'DateofTermination': date_of_termination,\n",
    "    'DOB': DOB,\n",
    "    'Sex': Sex,\n",
    "    'MaritalDesc': MaritalDesc,\n",
    "    'RaceDesc': RaceDesc,\n",
    "    'DateofHire': DateofHire,\n",
    "    'DateofTermination': DateofTermination,\n",
    "    'Department': Department,\n",
    "    'ManagerName': ManagerName,\n",
    "    'ManagerID': ManagerID,\n",
    "    'RecruitmentSource': RecruitmentSource,\n",
    "    'Absences': Absences\n",
    "}\n",
    "\n",
    "print('How much precentage the missing value represents?\\n')\n",
    "for variable_name, variable in variables.items():\n",
    "    print(variable_name,' ',round((variable.isnull().sum() / variable.size) * 100),'%')\n"
   ]
  },
  {
   "cell_type": "code",
   "execution_count": 532,
   "id": "0e11ccbd",
   "metadata": {},
   "outputs": [
    {
     "data": {
      "text/html": [
       "<div>\n",
       "<style scoped>\n",
       "    .dataframe tbody tr th:only-of-type {\n",
       "        vertical-align: middle;\n",
       "    }\n",
       "\n",
       "    .dataframe tbody tr th {\n",
       "        vertical-align: top;\n",
       "    }\n",
       "\n",
       "    .dataframe thead th {\n",
       "        text-align: right;\n",
       "    }\n",
       "</style>\n",
       "<table border=\"1\" class=\"dataframe\">\n",
       "  <thead>\n",
       "    <tr style=\"text-align: right;\">\n",
       "      <th></th>\n",
       "      <th>Employee_Name</th>\n",
       "      <th>EmpID</th>\n",
       "      <th>Salary</th>\n",
       "      <th>PositionID</th>\n",
       "      <th>Position</th>\n",
       "      <th>DOB</th>\n",
       "      <th>Sex</th>\n",
       "      <th>MaritalDesc</th>\n",
       "      <th>RaceDesc</th>\n",
       "      <th>DateofHire</th>\n",
       "      <th>DateofTermination</th>\n",
       "      <th>Department</th>\n",
       "      <th>ManagerName</th>\n",
       "      <th>ManagerID</th>\n",
       "      <th>RecruitmentSource</th>\n",
       "      <th>Absences</th>\n",
       "    </tr>\n",
       "  </thead>\n",
       "  <tbody>\n",
       "    <tr>\n",
       "      <th>220</th>\n",
       "      <td>NaN</td>\n",
       "      <td>NaN</td>\n",
       "      <td>NaN</td>\n",
       "      <td>NaN</td>\n",
       "      <td>NaN</td>\n",
       "      <td>NaN</td>\n",
       "      <td>NaN</td>\n",
       "      <td>NaN</td>\n",
       "      <td>NaN</td>\n",
       "      <td>NaN</td>\n",
       "      <td>NaN</td>\n",
       "      <td>NaN</td>\n",
       "      <td>NaN</td>\n",
       "      <td>NaN</td>\n",
       "      <td>NaN</td>\n",
       "      <td>NaN</td>\n",
       "    </tr>\n",
       "    <tr>\n",
       "      <th>240</th>\n",
       "      <td>NaN</td>\n",
       "      <td>NaN</td>\n",
       "      <td>NaN</td>\n",
       "      <td>NaN</td>\n",
       "      <td>NaN</td>\n",
       "      <td>NaN</td>\n",
       "      <td>NaN</td>\n",
       "      <td>NaN</td>\n",
       "      <td>NaN</td>\n",
       "      <td>NaN</td>\n",
       "      <td>NaN</td>\n",
       "      <td>NaN</td>\n",
       "      <td>NaN</td>\n",
       "      <td>NaN</td>\n",
       "      <td>NaN</td>\n",
       "      <td>NaN</td>\n",
       "    </tr>\n",
       "  </tbody>\n",
       "</table>\n",
       "</div>"
      ],
      "text/plain": [
       "    Employee_Name  EmpID  Salary  PositionID Position  DOB  Sex MaritalDesc  \\\n",
       "220           NaN    NaN     NaN         NaN      NaN  NaN  NaN         NaN   \n",
       "240           NaN    NaN     NaN         NaN      NaN  NaN  NaN         NaN   \n",
       "\n",
       "    RaceDesc DateofHire DateofTermination Department ManagerName  ManagerID  \\\n",
       "220      NaN        NaN               NaN        NaN         NaN        NaN   \n",
       "240      NaN        NaN               NaN        NaN         NaN        NaN   \n",
       "\n",
       "    RecruitmentSource  Absences  \n",
       "220               NaN       NaN  \n",
       "240               NaN       NaN  "
      ]
     },
     "execution_count": 532,
     "metadata": {},
     "output_type": "execute_result"
    }
   ],
   "source": [
    "df[df['EmpID'].isnull() == True]"
   ]
  },
  {
   "cell_type": "code",
   "execution_count": 533,
   "id": "5aa9d4c0",
   "metadata": {},
   "outputs": [
    {
     "data": {
      "text/plain": [
       "Position\n",
       "Accountant I                     63507.666667\n",
       "Administrative Assistant         52280.000000\n",
       "Area Sales Manager               64245.272727\n",
       "BI Developer                     95465.000000\n",
       "BI Director                     110929.000000\n",
       "CIO                             220450.000000\n",
       "Data Analyst                     89329.000000\n",
       "Data Analyst                              NaN\n",
       "Database Administrator          107124.750000\n",
       "Director of Operations          170500.000000\n",
       "Director of Sales               180000.000000\n",
       "Enterprise Architect                      NaN\n",
       "IT Director                     178000.000000\n",
       "IT Manager - DB                           NaN\n",
       "IT Manager - Infra              157000.000000\n",
       "IT Manager - Support            138888.000000\n",
       "IT Support                       65431.750000\n",
       "Network Engineer                 61605.000000\n",
       "President & CEO                           NaN\n",
       "Principal Data Architect        120000.000000\n",
       "Production Manager               74398.454545\n",
       "Production Technician I          55534.357143\n",
       "Production Technician II         64818.333333\n",
       "Sales Manager                    69240.000000\n",
       "Senior BI Developer              81584.000000\n",
       "Shared Services Manager                   NaN\n",
       "Software Engineer                97088.444444\n",
       "Software Engineering Manager     77692.000000\n",
       "Sr. Accountant                  102859.000000\n",
       "Sr. DBA                         104437.000000\n",
       "Sr. Network Engineer             93256.250000\n",
       "Name: Salary, dtype: float64"
      ]
     },
     "execution_count": 533,
     "metadata": {},
     "output_type": "execute_result"
    }
   ],
   "source": [
    "# handling id missing values\n",
    "df.drop([220, 240], inplace=True)\n",
    "# handling the EmpName column\n",
    "df.drop('Employee_Name', axis=1, inplace=True)\n",
    "df.groupby('Position')['Salary'].mean() # exploring the mean for each position"
   ]
  },
  {
   "cell_type": "markdown",
   "id": "60372a1c",
   "metadata": {},
   "source": [
    "### Fixing Salary Missing Data"
   ]
  },
  {
   "cell_type": "markdown",
   "id": "a6f9346f",
   "metadata": {},
   "source": [
    " ### here ive replaced salaries based on position for any positions that can be handled with more than one employee\n",
    " ### for the positions that either unique \"one employee per company\" or \"their releatives have no salaries\" i replaced them with the average salary per market \" assuming this data source is in UK \" in glassdoor website\n"
   ]
  },
  {
   "cell_type": "code",
   "execution_count": 534,
   "id": "bc54f2a6",
   "metadata": {},
   "outputs": [],
   "source": [
    "# here ive replaced salaries based on position for any positions that can be handled with more than one employee\n",
    "# for the positions that either unique \"one employee per company\" or \"their releatives have no salaries\" i replaced them with the average salary per market \" assuming this data source is in UK \" in glassdoor website\n",
    "mean_salary_by_position = df.groupby('Position')['Salary'].mean()\n",
    "df['Salary'].fillna(df['Position'].map(mean_salary_by_position), inplace=True)\n",
    "df[df['Salary'].isnull()] # most values are null as they do not mean to be replaced with-> this issue can be fixed my assuming the salary of that unique position based on how the market is paying\n",
    "df[df['Position'] == 'President & CEO'] = 141327\n",
    "df[df['Position'] == 'Shared Services Manager'] = 119458\n",
    "df[df['Position'] == 'Enterprise Architect'] = 98942\n",
    "# df[df['Position'] == 'IT Manager - Support'] = IT_ManagerDB\n",
    "# df[df['Position'] == 'Data Analyst'] = data_analyst\n",
    "df.at[243,'Salary'] = 128454\n",
    "df.at[244,'Salary'] = 128454\n",
    "df.at[249,'Salary'] = 89329"
   ]
  },
  {
   "cell_type": "markdown",
   "id": "639cc8d7",
   "metadata": {},
   "source": [
    "### DOB"
   ]
  },
  {
   "cell_type": "code",
   "execution_count": 535,
   "id": "a6d85509",
   "metadata": {},
   "outputs": [
    {
     "data": {
      "text/plain": [
       "0      07/10/83\n",
       "1      05/05/75\n",
       "2      09/19/88\n",
       "3      06/14/87\n",
       "4      09/08/89\n",
       "         ...   \n",
       "306    05/11/85\n",
       "307    06/14/87\n",
       "308    06/14/87\n",
       "309    02/24/79\n",
       "310    08/17/78\n",
       "Name: DOB, Length: 309, dtype: object"
      ]
     },
     "execution_count": 535,
     "metadata": {},
     "output_type": "execute_result"
    }
   ],
   "source": [
    "dob_mode = df['DOB'].mode()[0]\n",
    "df['DOB'].fillna(dob_mode, inplace=True) # the easiest way to handle categorical data is by using mode\n",
    "df['DOB']"
   ]
  },
  {
   "cell_type": "markdown",
   "id": "024fb7a0",
   "metadata": {},
   "source": [
    "### Gender column 'categorical'\n",
    "replacing null values by using mode()"
   ]
  },
  {
   "cell_type": "code",
   "execution_count": 536,
   "id": "704d4ae4",
   "metadata": {},
   "outputs": [],
   "source": [
    "gender_mode = df['Sex'].mode()[0]\n",
    "df['Sex'].fillna(gender_mode, inplace=True) # as it's categorical"
   ]
  },
  {
   "cell_type": "markdown",
   "id": "5320505e",
   "metadata": {},
   "source": [
    "### Termination date\n",
    "no termination date means they probably still active employees"
   ]
  },
  {
   "cell_type": "code",
   "execution_count": 537,
   "id": "d708a1ba",
   "metadata": {},
   "outputs": [
    {
     "data": {
      "text/html": [
       "<div>\n",
       "<style scoped>\n",
       "    .dataframe tbody tr th:only-of-type {\n",
       "        vertical-align: middle;\n",
       "    }\n",
       "\n",
       "    .dataframe tbody tr th {\n",
       "        vertical-align: top;\n",
       "    }\n",
       "\n",
       "    .dataframe thead th {\n",
       "        text-align: right;\n",
       "    }\n",
       "</style>\n",
       "<table border=\"1\" class=\"dataframe\">\n",
       "  <thead>\n",
       "    <tr style=\"text-align: right;\">\n",
       "      <th></th>\n",
       "      <th>EmpID</th>\n",
       "      <th>Salary</th>\n",
       "      <th>PositionID</th>\n",
       "      <th>Position</th>\n",
       "      <th>DOB</th>\n",
       "      <th>Sex</th>\n",
       "      <th>MaritalDesc</th>\n",
       "      <th>RaceDesc</th>\n",
       "      <th>DateofHire</th>\n",
       "      <th>DateofTermination</th>\n",
       "      <th>Department</th>\n",
       "      <th>ManagerName</th>\n",
       "      <th>ManagerID</th>\n",
       "      <th>RecruitmentSource</th>\n",
       "      <th>Absences</th>\n",
       "    </tr>\n",
       "  </thead>\n",
       "  <tbody>\n",
       "    <tr>\n",
       "      <th>0</th>\n",
       "      <td>10026.0</td>\n",
       "      <td>62506.0</td>\n",
       "      <td>19.0</td>\n",
       "      <td>Production Technician I</td>\n",
       "      <td>07/10/83</td>\n",
       "      <td>M</td>\n",
       "      <td>Single</td>\n",
       "      <td>White</td>\n",
       "      <td>7/5/2011</td>\n",
       "      <td>active</td>\n",
       "      <td>Production</td>\n",
       "      <td>Michael Albert</td>\n",
       "      <td>22.0</td>\n",
       "      <td>LinkedIn</td>\n",
       "      <td>1.0</td>\n",
       "    </tr>\n",
       "    <tr>\n",
       "      <th>1</th>\n",
       "      <td>10084.0</td>\n",
       "      <td>104437.0</td>\n",
       "      <td>27.0</td>\n",
       "      <td>Sr. DBA</td>\n",
       "      <td>05/05/75</td>\n",
       "      <td>M</td>\n",
       "      <td>Married</td>\n",
       "      <td>White</td>\n",
       "      <td>3/30/2015</td>\n",
       "      <td>6/16/2016</td>\n",
       "      <td>IT/IS</td>\n",
       "      <td>Simon Roup</td>\n",
       "      <td>4.0</td>\n",
       "      <td>Indeed</td>\n",
       "      <td>17.0</td>\n",
       "    </tr>\n",
       "    <tr>\n",
       "      <th>2</th>\n",
       "      <td>10196.0</td>\n",
       "      <td>64955.0</td>\n",
       "      <td>20.0</td>\n",
       "      <td>Production Technician II</td>\n",
       "      <td>09/19/88</td>\n",
       "      <td>F</td>\n",
       "      <td>Married</td>\n",
       "      <td>White</td>\n",
       "      <td>7/5/2011</td>\n",
       "      <td>9/24/2012</td>\n",
       "      <td>Production</td>\n",
       "      <td>Kissy Sullivan</td>\n",
       "      <td>20.0</td>\n",
       "      <td>LinkedIn</td>\n",
       "      <td>3.0</td>\n",
       "    </tr>\n",
       "    <tr>\n",
       "      <th>3</th>\n",
       "      <td>10088.0</td>\n",
       "      <td>64991.0</td>\n",
       "      <td>19.0</td>\n",
       "      <td>Production Technician I</td>\n",
       "      <td>06/14/87</td>\n",
       "      <td>F</td>\n",
       "      <td>Married</td>\n",
       "      <td>White</td>\n",
       "      <td>1/7/2008</td>\n",
       "      <td>active</td>\n",
       "      <td>Production</td>\n",
       "      <td>Elijiah Gray</td>\n",
       "      <td>16.0</td>\n",
       "      <td>Indeed</td>\n",
       "      <td>15.0</td>\n",
       "    </tr>\n",
       "    <tr>\n",
       "      <th>4</th>\n",
       "      <td>10069.0</td>\n",
       "      <td>50825.0</td>\n",
       "      <td>19.0</td>\n",
       "      <td>Production Technician I</td>\n",
       "      <td>09/08/89</td>\n",
       "      <td>F</td>\n",
       "      <td>Divorced</td>\n",
       "      <td>White</td>\n",
       "      <td>7/11/2011</td>\n",
       "      <td>9/6/2016</td>\n",
       "      <td>Production</td>\n",
       "      <td>Webster Butler</td>\n",
       "      <td>39.0</td>\n",
       "      <td>Google Search</td>\n",
       "      <td>2.0</td>\n",
       "    </tr>\n",
       "  </tbody>\n",
       "</table>\n",
       "</div>"
      ],
      "text/plain": [
       "     EmpID    Salary  PositionID                  Position       DOB Sex  \\\n",
       "0  10026.0   62506.0        19.0   Production Technician I  07/10/83  M    \n",
       "1  10084.0  104437.0        27.0                   Sr. DBA  05/05/75  M    \n",
       "2  10196.0   64955.0        20.0  Production Technician II  09/19/88   F   \n",
       "3  10088.0   64991.0        19.0   Production Technician I  06/14/87   F   \n",
       "4  10069.0   50825.0        19.0   Production Technician I  09/08/89   F   \n",
       "\n",
       "  MaritalDesc RaceDesc DateofHire DateofTermination         Department  \\\n",
       "0      Single    White   7/5/2011            active  Production          \n",
       "1     Married    White  3/30/2015         6/16/2016              IT/IS   \n",
       "2     Married    White   7/5/2011         9/24/2012  Production          \n",
       "3     Married    White   1/7/2008            active  Production          \n",
       "4    Divorced    White  7/11/2011          9/6/2016  Production          \n",
       "\n",
       "      ManagerName  ManagerID RecruitmentSource  Absences  \n",
       "0  Michael Albert       22.0          LinkedIn       1.0  \n",
       "1      Simon Roup        4.0            Indeed      17.0  \n",
       "2  Kissy Sullivan       20.0          LinkedIn       3.0  \n",
       "3    Elijiah Gray       16.0            Indeed      15.0  \n",
       "4  Webster Butler       39.0     Google Search       2.0  "
      ]
     },
     "execution_count": 537,
     "metadata": {},
     "output_type": "execute_result"
    }
   ],
   "source": [
    "df.loc[df['DateofTermination'].isnull(), 'DateofTermination'] = \"active\"\n",
    "df[df['DateofTermination'] != 'active']\n",
    "df.head()"
   ]
  },
  {
   "cell_type": "markdown",
   "id": "a342d631",
   "metadata": {},
   "source": [
    "### Missing Manager ID\n",
    "1- compare between managers names and id's \n",
    "2- If a name exists with an ID, and there are some rows for the same manager that currently have no ID, we have now captured their ID."
   ]
  },
  {
   "cell_type": "code",
   "execution_count": 538,
   "id": "a0886056",
   "metadata": {},
   "outputs": [
    {
     "data": {
      "text/html": [
       "<div>\n",
       "<style scoped>\n",
       "    .dataframe tbody tr th:only-of-type {\n",
       "        vertical-align: middle;\n",
       "    }\n",
       "\n",
       "    .dataframe tbody tr th {\n",
       "        vertical-align: top;\n",
       "    }\n",
       "\n",
       "    .dataframe thead th {\n",
       "        text-align: right;\n",
       "    }\n",
       "</style>\n",
       "<table border=\"1\" class=\"dataframe\">\n",
       "  <thead>\n",
       "    <tr style=\"text-align: right;\">\n",
       "      <th></th>\n",
       "      <th>EmpID</th>\n",
       "      <th>Salary</th>\n",
       "      <th>PositionID</th>\n",
       "      <th>Position</th>\n",
       "      <th>DOB</th>\n",
       "      <th>Sex</th>\n",
       "      <th>MaritalDesc</th>\n",
       "      <th>RaceDesc</th>\n",
       "      <th>DateofHire</th>\n",
       "      <th>DateofTermination</th>\n",
       "      <th>Department</th>\n",
       "      <th>ManagerName</th>\n",
       "      <th>ManagerID</th>\n",
       "      <th>RecruitmentSource</th>\n",
       "      <th>Absences</th>\n",
       "    </tr>\n",
       "  </thead>\n",
       "  <tbody>\n",
       "    <tr>\n",
       "      <th>19</th>\n",
       "      <td>10277.0</td>\n",
       "      <td>55534.357143</td>\n",
       "      <td>19.0</td>\n",
       "      <td>Production Technician I</td>\n",
       "      <td>04/06/79</td>\n",
       "      <td>M</td>\n",
       "      <td>Single</td>\n",
       "      <td>Asian</td>\n",
       "      <td>7/8/2013</td>\n",
       "      <td>active</td>\n",
       "      <td>Production</td>\n",
       "      <td>Webster Butler</td>\n",
       "      <td>NaN</td>\n",
       "      <td>LinkedIn</td>\n",
       "      <td>NaN</td>\n",
       "    </tr>\n",
       "    <tr>\n",
       "      <th>30</th>\n",
       "      <td>10184.0</td>\n",
       "      <td>65288.000000</td>\n",
       "      <td>20.0</td>\n",
       "      <td>Production Technician II</td>\n",
       "      <td>07/28/83</td>\n",
       "      <td>M</td>\n",
       "      <td>Single</td>\n",
       "      <td>White</td>\n",
       "      <td>9/29/2014</td>\n",
       "      <td>active</td>\n",
       "      <td>Production</td>\n",
       "      <td>Webster Butler</td>\n",
       "      <td>NaN</td>\n",
       "      <td>Google Search</td>\n",
       "      <td>NaN</td>\n",
       "    </tr>\n",
       "    <tr>\n",
       "      <th>44</th>\n",
       "      <td>10154.0</td>\n",
       "      <td>55534.357143</td>\n",
       "      <td>19.0</td>\n",
       "      <td>Production Technician I</td>\n",
       "      <td>08/24/83</td>\n",
       "      <td>F</td>\n",
       "      <td>Single</td>\n",
       "      <td>White</td>\n",
       "      <td>7/8/2013</td>\n",
       "      <td>active</td>\n",
       "      <td>Production</td>\n",
       "      <td>Webster Butler</td>\n",
       "      <td>NaN</td>\n",
       "      <td>LinkedIn</td>\n",
       "      <td>4.0</td>\n",
       "    </tr>\n",
       "    <tr>\n",
       "      <th>88</th>\n",
       "      <td>10136.0</td>\n",
       "      <td>65902.000000</td>\n",
       "      <td>20.0</td>\n",
       "      <td>Production Technician II</td>\n",
       "      <td>09/27/87</td>\n",
       "      <td>F</td>\n",
       "      <td>Single</td>\n",
       "      <td>Black or African American</td>\n",
       "      <td>2/17/2014</td>\n",
       "      <td>active</td>\n",
       "      <td>Production</td>\n",
       "      <td>Webster Butler</td>\n",
       "      <td>NaN</td>\n",
       "      <td>LinkedIn</td>\n",
       "      <td>7.0</td>\n",
       "    </tr>\n",
       "    <tr>\n",
       "      <th>135</th>\n",
       "      <td>10214.0</td>\n",
       "      <td>64995.000000</td>\n",
       "      <td>20.0</td>\n",
       "      <td>Production Technician II</td>\n",
       "      <td>05/07/92</td>\n",
       "      <td>F</td>\n",
       "      <td>Separated</td>\n",
       "      <td>White</td>\n",
       "      <td>6/5/2015</td>\n",
       "      <td>active</td>\n",
       "      <td>Production</td>\n",
       "      <td>Webster Butler</td>\n",
       "      <td>NaN</td>\n",
       "      <td>Indeed</td>\n",
       "      <td>6.0</td>\n",
       "    </tr>\n",
       "    <tr>\n",
       "      <th>177</th>\n",
       "      <td>10077.0</td>\n",
       "      <td>62385.000000</td>\n",
       "      <td>20.0</td>\n",
       "      <td>Production Technician II</td>\n",
       "      <td>08/25/76</td>\n",
       "      <td>F</td>\n",
       "      <td>Married</td>\n",
       "      <td>White</td>\n",
       "      <td>5/11/2016</td>\n",
       "      <td>active</td>\n",
       "      <td>Production</td>\n",
       "      <td>Webster Butler</td>\n",
       "      <td>NaN</td>\n",
       "      <td>LinkedIn</td>\n",
       "      <td>NaN</td>\n",
       "    </tr>\n",
       "    <tr>\n",
       "      <th>232</th>\n",
       "      <td>10011.0</td>\n",
       "      <td>46738.000000</td>\n",
       "      <td>19.0</td>\n",
       "      <td>Production Technician I</td>\n",
       "      <td>01/12/73</td>\n",
       "      <td>F</td>\n",
       "      <td>Married</td>\n",
       "      <td>Asian</td>\n",
       "      <td>11/28/2011</td>\n",
       "      <td>active</td>\n",
       "      <td>Production</td>\n",
       "      <td>Webster Butler</td>\n",
       "      <td>NaN</td>\n",
       "      <td>Google Search</td>\n",
       "      <td>16.0</td>\n",
       "    </tr>\n",
       "    <tr>\n",
       "      <th>251</th>\n",
       "      <td>10071.0</td>\n",
       "      <td>50923.000000</td>\n",
       "      <td>19.0</td>\n",
       "      <td>Production Technician I</td>\n",
       "      <td>03/10/75</td>\n",
       "      <td>F</td>\n",
       "      <td>Single</td>\n",
       "      <td>Asian</td>\n",
       "      <td>9/30/2013</td>\n",
       "      <td>active</td>\n",
       "      <td>Production</td>\n",
       "      <td>Webster Butler</td>\n",
       "      <td>NaN</td>\n",
       "      <td>Google Search</td>\n",
       "      <td>14.0</td>\n",
       "    </tr>\n",
       "  </tbody>\n",
       "</table>\n",
       "</div>"
      ],
      "text/plain": [
       "       EmpID        Salary  PositionID                  Position       DOB  \\\n",
       "19   10277.0  55534.357143        19.0   Production Technician I  04/06/79   \n",
       "30   10184.0  65288.000000        20.0  Production Technician II  07/28/83   \n",
       "44   10154.0  55534.357143        19.0   Production Technician I  08/24/83   \n",
       "88   10136.0  65902.000000        20.0  Production Technician II  09/27/87   \n",
       "135  10214.0  64995.000000        20.0  Production Technician II  05/07/92   \n",
       "177  10077.0  62385.000000        20.0  Production Technician II  08/25/76   \n",
       "232  10011.0  46738.000000        19.0   Production Technician I  01/12/73   \n",
       "251  10071.0  50923.000000        19.0   Production Technician I  03/10/75   \n",
       "\n",
       "    Sex MaritalDesc                   RaceDesc  DateofHire DateofTermination  \\\n",
       "19   M       Single                      Asian    7/8/2013            active   \n",
       "30   M       Single                      White   9/29/2014            active   \n",
       "44    F      Single                      White    7/8/2013            active   \n",
       "88    F      Single  Black or African American   2/17/2014            active   \n",
       "135   F   Separated                      White    6/5/2015            active   \n",
       "177   F     Married                      White   5/11/2016            active   \n",
       "232   F     Married                      Asian  11/28/2011            active   \n",
       "251   F      Single                      Asian   9/30/2013            active   \n",
       "\n",
       "            Department     ManagerName  ManagerID RecruitmentSource  Absences  \n",
       "19   Production         Webster Butler        NaN          LinkedIn       NaN  \n",
       "30   Production         Webster Butler        NaN     Google Search       NaN  \n",
       "44   Production         Webster Butler        NaN          LinkedIn       4.0  \n",
       "88   Production         Webster Butler        NaN          LinkedIn       7.0  \n",
       "135  Production         Webster Butler        NaN            Indeed       6.0  \n",
       "177  Production         Webster Butler        NaN          LinkedIn       NaN  \n",
       "232  Production         Webster Butler        NaN     Google Search      16.0  \n",
       "251  Production         Webster Butler        NaN     Google Search      14.0  "
      ]
     },
     "execution_count": 538,
     "metadata": {},
     "output_type": "execute_result"
    }
   ],
   "source": [
    "df[df['ManagerID'].isnull() == True]"
   ]
  },
  {
   "cell_type": "code",
   "execution_count": 539,
   "id": "3f867eeb",
   "metadata": {},
   "outputs": [
    {
     "data": {
      "text/html": [
       "<div>\n",
       "<style scoped>\n",
       "    .dataframe tbody tr th:only-of-type {\n",
       "        vertical-align: middle;\n",
       "    }\n",
       "\n",
       "    .dataframe tbody tr th {\n",
       "        vertical-align: top;\n",
       "    }\n",
       "\n",
       "    .dataframe thead th {\n",
       "        text-align: right;\n",
       "    }\n",
       "</style>\n",
       "<table border=\"1\" class=\"dataframe\">\n",
       "  <thead>\n",
       "    <tr style=\"text-align: right;\">\n",
       "      <th></th>\n",
       "      <th>EmpID</th>\n",
       "      <th>Salary</th>\n",
       "      <th>PositionID</th>\n",
       "      <th>Position</th>\n",
       "      <th>DOB</th>\n",
       "      <th>Sex</th>\n",
       "      <th>MaritalDesc</th>\n",
       "      <th>RaceDesc</th>\n",
       "      <th>DateofHire</th>\n",
       "      <th>DateofTermination</th>\n",
       "      <th>Department</th>\n",
       "      <th>ManagerName</th>\n",
       "      <th>ManagerID</th>\n",
       "      <th>RecruitmentSource</th>\n",
       "      <th>Absences</th>\n",
       "    </tr>\n",
       "  </thead>\n",
       "  <tbody>\n",
       "    <tr>\n",
       "      <th>4</th>\n",
       "      <td>10069.0</td>\n",
       "      <td>50825.000000</td>\n",
       "      <td>19.0</td>\n",
       "      <td>Production Technician I</td>\n",
       "      <td>09/08/89</td>\n",
       "      <td>F</td>\n",
       "      <td>Divorced</td>\n",
       "      <td>White</td>\n",
       "      <td>7/11/2011</td>\n",
       "      <td>9/6/2016</td>\n",
       "      <td>Production</td>\n",
       "      <td>Webster Butler</td>\n",
       "      <td>39.0</td>\n",
       "      <td>Google Search</td>\n",
       "      <td>2.0</td>\n",
       "    </tr>\n",
       "    <tr>\n",
       "      <th>19</th>\n",
       "      <td>10277.0</td>\n",
       "      <td>55534.357143</td>\n",
       "      <td>19.0</td>\n",
       "      <td>Production Technician I</td>\n",
       "      <td>04/06/79</td>\n",
       "      <td>M</td>\n",
       "      <td>Single</td>\n",
       "      <td>Asian</td>\n",
       "      <td>7/8/2013</td>\n",
       "      <td>active</td>\n",
       "      <td>Production</td>\n",
       "      <td>Webster Butler</td>\n",
       "      <td>NaN</td>\n",
       "      <td>LinkedIn</td>\n",
       "      <td>NaN</td>\n",
       "    </tr>\n",
       "    <tr>\n",
       "      <th>30</th>\n",
       "      <td>10184.0</td>\n",
       "      <td>65288.000000</td>\n",
       "      <td>20.0</td>\n",
       "      <td>Production Technician II</td>\n",
       "      <td>07/28/83</td>\n",
       "      <td>M</td>\n",
       "      <td>Single</td>\n",
       "      <td>White</td>\n",
       "      <td>9/29/2014</td>\n",
       "      <td>active</td>\n",
       "      <td>Production</td>\n",
       "      <td>Webster Butler</td>\n",
       "      <td>NaN</td>\n",
       "      <td>Google Search</td>\n",
       "      <td>NaN</td>\n",
       "    </tr>\n",
       "    <tr>\n",
       "      <th>44</th>\n",
       "      <td>10154.0</td>\n",
       "      <td>55534.357143</td>\n",
       "      <td>19.0</td>\n",
       "      <td>Production Technician I</td>\n",
       "      <td>08/24/83</td>\n",
       "      <td>F</td>\n",
       "      <td>Single</td>\n",
       "      <td>White</td>\n",
       "      <td>7/8/2013</td>\n",
       "      <td>active</td>\n",
       "      <td>Production</td>\n",
       "      <td>Webster Butler</td>\n",
       "      <td>NaN</td>\n",
       "      <td>LinkedIn</td>\n",
       "      <td>4.0</td>\n",
       "    </tr>\n",
       "    <tr>\n",
       "      <th>65</th>\n",
       "      <td>10070.0</td>\n",
       "      <td>55722.000000</td>\n",
       "      <td>19.0</td>\n",
       "      <td>Production Technician I</td>\n",
       "      <td>10/31/77</td>\n",
       "      <td>M</td>\n",
       "      <td>Married</td>\n",
       "      <td>White</td>\n",
       "      <td>5/16/2011</td>\n",
       "      <td>6/8/2016</td>\n",
       "      <td>Production</td>\n",
       "      <td>Webster Butler</td>\n",
       "      <td>39.0</td>\n",
       "      <td>Indeed</td>\n",
       "      <td>14.0</td>\n",
       "    </tr>\n",
       "    <tr>\n",
       "      <th>88</th>\n",
       "      <td>10136.0</td>\n",
       "      <td>65902.000000</td>\n",
       "      <td>20.0</td>\n",
       "      <td>Production Technician II</td>\n",
       "      <td>09/27/87</td>\n",
       "      <td>F</td>\n",
       "      <td>Single</td>\n",
       "      <td>Black or African American</td>\n",
       "      <td>2/17/2014</td>\n",
       "      <td>active</td>\n",
       "      <td>Production</td>\n",
       "      <td>Webster Butler</td>\n",
       "      <td>NaN</td>\n",
       "      <td>LinkedIn</td>\n",
       "      <td>7.0</td>\n",
       "    </tr>\n",
       "    <tr>\n",
       "      <th>89</th>\n",
       "      <td>10189.0</td>\n",
       "      <td>57748.000000</td>\n",
       "      <td>19.0</td>\n",
       "      <td>Production Technician I</td>\n",
       "      <td>04/14/55</td>\n",
       "      <td>F</td>\n",
       "      <td>Married</td>\n",
       "      <td>White</td>\n",
       "      <td>11/7/2011</td>\n",
       "      <td>5/17/2016</td>\n",
       "      <td>Production</td>\n",
       "      <td>Webster Butler</td>\n",
       "      <td>39.0</td>\n",
       "      <td>Google Search</td>\n",
       "      <td>16.0</td>\n",
       "    </tr>\n",
       "    <tr>\n",
       "      <th>105</th>\n",
       "      <td>10283.0</td>\n",
       "      <td>54933.000000</td>\n",
       "      <td>19.0</td>\n",
       "      <td>Production Technician I</td>\n",
       "      <td>08/09/74</td>\n",
       "      <td>F</td>\n",
       "      <td>Married</td>\n",
       "      <td>Black or African American</td>\n",
       "      <td>4/2/2012</td>\n",
       "      <td>6/25/2015</td>\n",
       "      <td>Production</td>\n",
       "      <td>Webster Butler</td>\n",
       "      <td>39.0</td>\n",
       "      <td>Diversity Job Fair</td>\n",
       "      <td>15.0</td>\n",
       "    </tr>\n",
       "    <tr>\n",
       "      <th>124</th>\n",
       "      <td>10097.0</td>\n",
       "      <td>52177.000000</td>\n",
       "      <td>19.0</td>\n",
       "      <td>Production Technician I</td>\n",
       "      <td>08/18/52</td>\n",
       "      <td>F</td>\n",
       "      <td>Single</td>\n",
       "      <td>White</td>\n",
       "      <td>1/9/2012</td>\n",
       "      <td>12/15/2015</td>\n",
       "      <td>Production</td>\n",
       "      <td>Webster Butler</td>\n",
       "      <td>39.0</td>\n",
       "      <td>CareerBuilder</td>\n",
       "      <td>8.0</td>\n",
       "    </tr>\n",
       "    <tr>\n",
       "      <th>135</th>\n",
       "      <td>10214.0</td>\n",
       "      <td>64995.000000</td>\n",
       "      <td>20.0</td>\n",
       "      <td>Production Technician II</td>\n",
       "      <td>05/07/92</td>\n",
       "      <td>F</td>\n",
       "      <td>Separated</td>\n",
       "      <td>White</td>\n",
       "      <td>6/5/2015</td>\n",
       "      <td>active</td>\n",
       "      <td>Production</td>\n",
       "      <td>Webster Butler</td>\n",
       "      <td>NaN</td>\n",
       "      <td>Indeed</td>\n",
       "      <td>6.0</td>\n",
       "    </tr>\n",
       "    <tr>\n",
       "      <th>151</th>\n",
       "      <td>10166.0</td>\n",
       "      <td>54005.000000</td>\n",
       "      <td>19.0</td>\n",
       "      <td>Production Technician I</td>\n",
       "      <td>12/08/73</td>\n",
       "      <td>F</td>\n",
       "      <td>Married</td>\n",
       "      <td>White</td>\n",
       "      <td>9/26/2011</td>\n",
       "      <td>6/4/2015</td>\n",
       "      <td>Production</td>\n",
       "      <td>Webster Butler</td>\n",
       "      <td>39.0</td>\n",
       "      <td>Google Search</td>\n",
       "      <td>16.0</td>\n",
       "    </tr>\n",
       "    <tr>\n",
       "      <th>174</th>\n",
       "      <td>10004.0</td>\n",
       "      <td>47434.000000</td>\n",
       "      <td>19.0</td>\n",
       "      <td>Production Technician I</td>\n",
       "      <td>06/14/87</td>\n",
       "      <td>F</td>\n",
       "      <td>Single</td>\n",
       "      <td>Black or African American</td>\n",
       "      <td>11/7/2011</td>\n",
       "      <td>11/14/2015</td>\n",
       "      <td>Production</td>\n",
       "      <td>Webster Butler</td>\n",
       "      <td>39.0</td>\n",
       "      <td>Diversity Job Fair</td>\n",
       "      <td>17.0</td>\n",
       "    </tr>\n",
       "    <tr>\n",
       "      <th>177</th>\n",
       "      <td>10077.0</td>\n",
       "      <td>62385.000000</td>\n",
       "      <td>20.0</td>\n",
       "      <td>Production Technician II</td>\n",
       "      <td>08/25/76</td>\n",
       "      <td>F</td>\n",
       "      <td>Married</td>\n",
       "      <td>White</td>\n",
       "      <td>5/11/2016</td>\n",
       "      <td>active</td>\n",
       "      <td>Production</td>\n",
       "      <td>Webster Butler</td>\n",
       "      <td>NaN</td>\n",
       "      <td>LinkedIn</td>\n",
       "      <td>NaN</td>\n",
       "    </tr>\n",
       "    <tr>\n",
       "      <th>198</th>\n",
       "      <td>10215.0</td>\n",
       "      <td>55534.357143</td>\n",
       "      <td>19.0</td>\n",
       "      <td>Production Technician I</td>\n",
       "      <td>05/02/89</td>\n",
       "      <td>M</td>\n",
       "      <td>Single</td>\n",
       "      <td>Black or African American</td>\n",
       "      <td>9/26/2011</td>\n",
       "      <td>4/4/2014</td>\n",
       "      <td>Production</td>\n",
       "      <td>Webster Butler</td>\n",
       "      <td>39.0</td>\n",
       "      <td>Diversity Job Fair</td>\n",
       "      <td>19.0</td>\n",
       "    </tr>\n",
       "    <tr>\n",
       "      <th>206</th>\n",
       "      <td>10078.0</td>\n",
       "      <td>71966.000000</td>\n",
       "      <td>20.0</td>\n",
       "      <td>Production Technician II</td>\n",
       "      <td>06/14/87</td>\n",
       "      <td>F</td>\n",
       "      <td>Married</td>\n",
       "      <td>Asian</td>\n",
       "      <td>5/14/2012</td>\n",
       "      <td>8/19/2013</td>\n",
       "      <td>Production</td>\n",
       "      <td>Webster Butler</td>\n",
       "      <td>39.0</td>\n",
       "      <td>LinkedIn</td>\n",
       "      <td>17.0</td>\n",
       "    </tr>\n",
       "    <tr>\n",
       "      <th>214</th>\n",
       "      <td>10286.0</td>\n",
       "      <td>53564.000000</td>\n",
       "      <td>19.0</td>\n",
       "      <td>Production Technician I</td>\n",
       "      <td>03/17/88</td>\n",
       "      <td>M</td>\n",
       "      <td>Single</td>\n",
       "      <td>Black or African American</td>\n",
       "      <td>1/10/2011</td>\n",
       "      <td>12/28/2017</td>\n",
       "      <td>Production</td>\n",
       "      <td>Webster Butler</td>\n",
       "      <td>39.0</td>\n",
       "      <td>Google Search</td>\n",
       "      <td>15.0</td>\n",
       "    </tr>\n",
       "    <tr>\n",
       "      <th>232</th>\n",
       "      <td>10011.0</td>\n",
       "      <td>46738.000000</td>\n",
       "      <td>19.0</td>\n",
       "      <td>Production Technician I</td>\n",
       "      <td>01/12/73</td>\n",
       "      <td>F</td>\n",
       "      <td>Married</td>\n",
       "      <td>Asian</td>\n",
       "      <td>11/28/2011</td>\n",
       "      <td>active</td>\n",
       "      <td>Production</td>\n",
       "      <td>Webster Butler</td>\n",
       "      <td>NaN</td>\n",
       "      <td>Google Search</td>\n",
       "      <td>16.0</td>\n",
       "    </tr>\n",
       "    <tr>\n",
       "      <th>251</th>\n",
       "      <td>10071.0</td>\n",
       "      <td>50923.000000</td>\n",
       "      <td>19.0</td>\n",
       "      <td>Production Technician I</td>\n",
       "      <td>03/10/75</td>\n",
       "      <td>F</td>\n",
       "      <td>Single</td>\n",
       "      <td>Asian</td>\n",
       "      <td>9/30/2013</td>\n",
       "      <td>active</td>\n",
       "      <td>Production</td>\n",
       "      <td>Webster Butler</td>\n",
       "      <td>NaN</td>\n",
       "      <td>Google Search</td>\n",
       "      <td>14.0</td>\n",
       "    </tr>\n",
       "    <tr>\n",
       "      <th>276</th>\n",
       "      <td>10221.0</td>\n",
       "      <td>55534.357143</td>\n",
       "      <td>19.0</td>\n",
       "      <td>Production Technician I</td>\n",
       "      <td>04/03/75</td>\n",
       "      <td>F</td>\n",
       "      <td>Married</td>\n",
       "      <td>Black or African American</td>\n",
       "      <td>4/27/2009</td>\n",
       "      <td>4/1/2013</td>\n",
       "      <td>Production</td>\n",
       "      <td>Webster Butler</td>\n",
       "      <td>39.0</td>\n",
       "      <td>Diversity Job Fair</td>\n",
       "      <td>11.0</td>\n",
       "    </tr>\n",
       "    <tr>\n",
       "      <th>280</th>\n",
       "      <td>10268.0</td>\n",
       "      <td>64818.333333</td>\n",
       "      <td>20.0</td>\n",
       "      <td>Production Technician II</td>\n",
       "      <td>09/16/75</td>\n",
       "      <td>M</td>\n",
       "      <td>Widowed</td>\n",
       "      <td>White</td>\n",
       "      <td>6/25/2007</td>\n",
       "      <td>8/30/2010</td>\n",
       "      <td>Production</td>\n",
       "      <td>Webster Butler</td>\n",
       "      <td>39.0</td>\n",
       "      <td>Other</td>\n",
       "      <td>15.0</td>\n",
       "    </tr>\n",
       "    <tr>\n",
       "      <th>300</th>\n",
       "      <td>10072.0</td>\n",
       "      <td>58371.000000</td>\n",
       "      <td>19.0</td>\n",
       "      <td>Production Technician I</td>\n",
       "      <td>05/24/87</td>\n",
       "      <td>F</td>\n",
       "      <td>Single</td>\n",
       "      <td>White</td>\n",
       "      <td>1/10/2011</td>\n",
       "      <td>5/15/2014</td>\n",
       "      <td>Production</td>\n",
       "      <td>Webster Butler</td>\n",
       "      <td>39.0</td>\n",
       "      <td>LinkedIn</td>\n",
       "      <td>11.0</td>\n",
       "    </tr>\n",
       "  </tbody>\n",
       "</table>\n",
       "</div>"
      ],
      "text/plain": [
       "       EmpID        Salary  PositionID                  Position       DOB  \\\n",
       "4    10069.0  50825.000000        19.0   Production Technician I  09/08/89   \n",
       "19   10277.0  55534.357143        19.0   Production Technician I  04/06/79   \n",
       "30   10184.0  65288.000000        20.0  Production Technician II  07/28/83   \n",
       "44   10154.0  55534.357143        19.0   Production Technician I  08/24/83   \n",
       "65   10070.0  55722.000000        19.0   Production Technician I  10/31/77   \n",
       "88   10136.0  65902.000000        20.0  Production Technician II  09/27/87   \n",
       "89   10189.0  57748.000000        19.0   Production Technician I  04/14/55   \n",
       "105  10283.0  54933.000000        19.0   Production Technician I  08/09/74   \n",
       "124  10097.0  52177.000000        19.0   Production Technician I  08/18/52   \n",
       "135  10214.0  64995.000000        20.0  Production Technician II  05/07/92   \n",
       "151  10166.0  54005.000000        19.0   Production Technician I  12/08/73   \n",
       "174  10004.0  47434.000000        19.0   Production Technician I  06/14/87   \n",
       "177  10077.0  62385.000000        20.0  Production Technician II  08/25/76   \n",
       "198  10215.0  55534.357143        19.0   Production Technician I  05/02/89   \n",
       "206  10078.0  71966.000000        20.0  Production Technician II  06/14/87   \n",
       "214  10286.0  53564.000000        19.0   Production Technician I  03/17/88   \n",
       "232  10011.0  46738.000000        19.0   Production Technician I  01/12/73   \n",
       "251  10071.0  50923.000000        19.0   Production Technician I  03/10/75   \n",
       "276  10221.0  55534.357143        19.0   Production Technician I  04/03/75   \n",
       "280  10268.0  64818.333333        20.0  Production Technician II  09/16/75   \n",
       "300  10072.0  58371.000000        19.0   Production Technician I  05/24/87   \n",
       "\n",
       "    Sex MaritalDesc                   RaceDesc  DateofHire DateofTermination  \\\n",
       "4     F    Divorced                      White   7/11/2011          9/6/2016   \n",
       "19   M       Single                      Asian    7/8/2013            active   \n",
       "30   M       Single                      White   9/29/2014            active   \n",
       "44    F      Single                      White    7/8/2013            active   \n",
       "65   M      Married                      White   5/16/2011          6/8/2016   \n",
       "88    F      Single  Black or African American   2/17/2014            active   \n",
       "89    F     Married                      White   11/7/2011         5/17/2016   \n",
       "105   F     Married  Black or African American    4/2/2012         6/25/2015   \n",
       "124   F      Single                      White    1/9/2012        12/15/2015   \n",
       "135   F   Separated                      White    6/5/2015            active   \n",
       "151   F     Married                      White   9/26/2011          6/4/2015   \n",
       "174   F      Single  Black or African American   11/7/2011        11/14/2015   \n",
       "177   F     Married                      White   5/11/2016            active   \n",
       "198  M       Single  Black or African American   9/26/2011          4/4/2014   \n",
       "206   F     Married                      Asian   5/14/2012         8/19/2013   \n",
       "214  M       Single  Black or African American   1/10/2011        12/28/2017   \n",
       "232   F     Married                      Asian  11/28/2011            active   \n",
       "251   F      Single                      Asian   9/30/2013            active   \n",
       "276   F     Married  Black or African American   4/27/2009          4/1/2013   \n",
       "280  M      Widowed                      White   6/25/2007         8/30/2010   \n",
       "300   F      Single                      White   1/10/2011         5/15/2014   \n",
       "\n",
       "            Department     ManagerName  ManagerID   RecruitmentSource  \\\n",
       "4    Production         Webster Butler       39.0       Google Search   \n",
       "19   Production         Webster Butler        NaN            LinkedIn   \n",
       "30   Production         Webster Butler        NaN       Google Search   \n",
       "44   Production         Webster Butler        NaN            LinkedIn   \n",
       "65   Production         Webster Butler       39.0              Indeed   \n",
       "88   Production         Webster Butler        NaN            LinkedIn   \n",
       "89   Production         Webster Butler       39.0       Google Search   \n",
       "105  Production         Webster Butler       39.0  Diversity Job Fair   \n",
       "124  Production         Webster Butler       39.0       CareerBuilder   \n",
       "135  Production         Webster Butler        NaN              Indeed   \n",
       "151  Production         Webster Butler       39.0       Google Search   \n",
       "174  Production         Webster Butler       39.0  Diversity Job Fair   \n",
       "177  Production         Webster Butler        NaN            LinkedIn   \n",
       "198  Production         Webster Butler       39.0  Diversity Job Fair   \n",
       "206  Production         Webster Butler       39.0            LinkedIn   \n",
       "214  Production         Webster Butler       39.0       Google Search   \n",
       "232  Production         Webster Butler        NaN       Google Search   \n",
       "251  Production         Webster Butler        NaN       Google Search   \n",
       "276  Production         Webster Butler       39.0  Diversity Job Fair   \n",
       "280  Production         Webster Butler       39.0               Other   \n",
       "300  Production         Webster Butler       39.0            LinkedIn   \n",
       "\n",
       "     Absences  \n",
       "4         2.0  \n",
       "19        NaN  \n",
       "30        NaN  \n",
       "44        4.0  \n",
       "65       14.0  \n",
       "88        7.0  \n",
       "89       16.0  \n",
       "105      15.0  \n",
       "124       8.0  \n",
       "135       6.0  \n",
       "151      16.0  \n",
       "174      17.0  \n",
       "177       NaN  \n",
       "198      19.0  \n",
       "206      17.0  \n",
       "214      15.0  \n",
       "232      16.0  \n",
       "251      14.0  \n",
       "276      11.0  \n",
       "280      15.0  \n",
       "300      11.0  "
      ]
     },
     "execution_count": 539,
     "metadata": {},
     "output_type": "execute_result"
    }
   ],
   "source": [
    "df[df['ManagerName'] == 'Webster Butler'] # to extract manager id -> 39"
   ]
  },
  {
   "cell_type": "code",
   "execution_count": 540,
   "id": "90d319be",
   "metadata": {},
   "outputs": [],
   "source": [
    "df['ManagerID'] = df['ManagerID'].fillna(39)"
   ]
  },
  {
   "cell_type": "code",
   "execution_count": 541,
   "id": "323a1297",
   "metadata": {},
   "outputs": [],
   "source": [
    "df['Absences'] = df['Absences'].fillna(0) # as the range of absences is from 1 to 20 i'm assuming null values are representing people with 0 absence"
   ]
  },
  {
   "cell_type": "code",
   "execution_count": 542,
   "id": "peripheral-starter",
   "metadata": {},
   "outputs": [
    {
     "data": {
      "text/plain": [
       "EmpID                0\n",
       "Salary               0\n",
       "PositionID           0\n",
       "Position             0\n",
       "DOB                  0\n",
       "Sex                  0\n",
       "MaritalDesc          0\n",
       "RaceDesc             0\n",
       "DateofHire           0\n",
       "DateofTermination    0\n",
       "Department           0\n",
       "ManagerName          0\n",
       "ManagerID            0\n",
       "RecruitmentSource    0\n",
       "Absences             0\n",
       "dtype: int64"
      ]
     },
     "execution_count": 542,
     "metadata": {},
     "output_type": "execute_result"
    }
   ],
   "source": [
    "df.isna().sum()"
   ]
  }
 ],
 "metadata": {
  "kernelspec": {
   "display_name": "Python 3 (ipykernel)",
   "language": "python",
   "name": "python3"
  },
  "language_info": {
   "codemirror_mode": {
    "name": "ipython",
    "version": 3
   },
   "file_extension": ".py",
   "mimetype": "text/x-python",
   "name": "python",
   "nbconvert_exporter": "python",
   "pygments_lexer": "ipython3",
   "version": "3.11.3"
  }
 },
 "nbformat": 4,
 "nbformat_minor": 5
}
